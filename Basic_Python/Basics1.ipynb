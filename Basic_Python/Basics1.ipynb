{
  "nbformat": 4,
  "nbformat_minor": 0,
  "metadata": {
    "colab": {
      "provenance": [],
      "authorship_tag": "ABX9TyP21vOQZU23eNFgEWkIISq+",
      "include_colab_link": true
    },
    "kernelspec": {
      "name": "python3",
      "display_name": "Python 3"
    },
    "language_info": {
      "name": "python"
    }
  },
  "cells": [
    {
      "cell_type": "markdown",
      "metadata": {
        "id": "view-in-github",
        "colab_type": "text"
      },
      "source": [
        "<a href=\"https://colab.research.google.com/github/Ankush1oo8/Data_Analyst/blob/main/Basic_Python/Basics1.ipynb\" target=\"_parent\"><img src=\"https://colab.research.google.com/assets/colab-badge.svg\" alt=\"Open In Colab\"/></a>"
      ]
    },
    {
      "cell_type": "code",
      "source": [
        "print(\"hello world\")"
      ],
      "metadata": {
        "colab": {
          "base_uri": "https://localhost:8080/"
        },
        "id": "bJvotO1tK26Z",
        "outputId": "405fd97b-2b74-4b80-ef3c-a091a85207e1"
      },
      "execution_count": null,
      "outputs": [
        {
          "output_type": "stream",
          "name": "stdout",
          "text": [
            "hello world\n"
          ]
        }
      ]
    },
    {
      "cell_type": "markdown",
      "source": [
        "## Basic syntax rules in python\n",
        "### Case sensitivity\n",
        "- python is case sensitive\n",
        "- variable `name` and `Name` both are differnt\n",
        "\n",
        "### Indentation\n",
        "- using space instead of brackets\n",
        "- example\n",
        "```\n",
        "if age>70:\n",
        "      print(hello)\n",
        "```"
      ],
      "metadata": {
        "id": "yMFQ-3dULVeZ"
      }
    },
    {
      "cell_type": "code",
      "source": [
        "# line continuation\n",
        "t=1+2+3+4+5+5\\\n",
        "+6+7+8+9+10\n",
        "print(t)"
      ],
      "metadata": {
        "colab": {
          "base_uri": "https://localhost:8080/"
        },
        "id": "ScBCSRBdK6JZ",
        "outputId": "0d6ab331-65a8-44ce-c37d-00eed3ea68ef"
      },
      "execution_count": null,
      "outputs": [
        {
          "output_type": "stream",
          "name": "stdout",
          "text": [
            "60\n"
          ]
        }
      ]
    },
    {
      "cell_type": "code",
      "source": [
        "# variable assignment\n",
        "age =32 # age is integer identify in runtime\n",
        "type(age)"
      ],
      "metadata": {
        "colab": {
          "base_uri": "https://localhost:8080/"
        },
        "id": "4rlAzNE3Mhxb",
        "outputId": "cf84d9cc-8d14-4c5e-8cf1-d352b4a09023"
      },
      "execution_count": null,
      "outputs": [
        {
          "output_type": "execute_result",
          "data": {
            "text/plain": [
              "int"
            ]
          },
          "metadata": {},
          "execution_count": 5
        }
      ]
    },
    {
      "cell_type": "code",
      "source": [
        "age=\"Name\"\n",
        "type(age)"
      ],
      "metadata": {
        "colab": {
          "base_uri": "https://localhost:8080/"
        },
        "id": "Kdf0fEqaMu5l",
        "outputId": "10b58091-ca92-4f94-e7ba-ea8c65278b94"
      },
      "execution_count": null,
      "outputs": [
        {
          "output_type": "execute_result",
          "data": {
            "text/plain": [
              "str"
            ]
          },
          "metadata": {},
          "execution_count": 6
        }
      ]
    },
    {
      "cell_type": "code",
      "source": [
        "age=30"
      ],
      "metadata": {
        "id": "b_-UE0sbM3yK"
      },
      "execution_count": null,
      "outputs": []
    },
    {
      "cell_type": "code",
      "source": [
        "if(age>=30):\n",
        "  print(\"hello\")"
      ],
      "metadata": {
        "colab": {
          "base_uri": "https://localhost:8080/"
        },
        "id": "27UTQrtWM9gs",
        "outputId": "544f79be-50f1-474c-ebb2-178ab21a8136"
      },
      "execution_count": null,
      "outputs": [
        {
          "output_type": "stream",
          "name": "stdout",
          "text": [
            "hello\n"
          ]
        }
      ]
    },
    {
      "cell_type": "code",
      "source": [
        "if True:\n",
        "  print(\"correct indentation\")\n",
        "  if False:\n",
        "    print(\"this will not be printed\")\n",
        "  print(\"outside false inside true\")\n",
        "print(\"ouside if else condition\")"
      ],
      "metadata": {
        "colab": {
          "base_uri": "https://localhost:8080/"
        },
        "id": "0A2VMLEyNB1n",
        "outputId": "bb31775c-5e1a-4354-e8d6-c12b4eb18c95"
      },
      "execution_count": null,
      "outputs": [
        {
          "output_type": "stream",
          "name": "stdout",
          "text": [
            "correct indentation\n",
            "outside false inside true\n",
            "ouside if else condition\n"
          ]
        }
      ]
    },
    {
      "cell_type": "code",
      "source": [],
      "metadata": {
        "id": "meXT9oCXNoNm"
      },
      "execution_count": null,
      "outputs": []
    }
  ]
}