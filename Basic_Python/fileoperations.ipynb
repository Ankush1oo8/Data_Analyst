{
  "nbformat": 4,
  "nbformat_minor": 0,
  "metadata": {
    "colab": {
      "provenance": [],
      "authorship_tag": "ABX9TyPuRu/uHQ7xXrvRMUwCZBA7",
      "include_colab_link": true
    },
    "kernelspec": {
      "name": "python3",
      "display_name": "Python 3"
    },
    "language_info": {
      "name": "python"
    }
  },
  "cells": [
    {
      "cell_type": "markdown",
      "metadata": {
        "id": "view-in-github",
        "colab_type": "text"
      },
      "source": [
        "<a href=\"https://colab.research.google.com/github/Ankush1oo8/Data_Analyst/blob/main/Basic_Python/fileoperations.ipynb\" target=\"_parent\"><img src=\"https://colab.research.google.com/assets/colab-badge.svg\" alt=\"Open In Colab\"/></a>"
      ]
    },
    {
      "cell_type": "code",
      "execution_count": 4,
      "metadata": {
        "colab": {
          "base_uri": "https://localhost:8080/"
        },
        "id": "zcuaLaP5Ou4w",
        "outputId": "6b7fbff4-16ab-4959-f5dd-ad77f3c0feb1"
      },
      "outputs": [
        {
          "output_type": "stream",
          "name": "stdout",
          "text": [
            "hello\n",
            "how are you\n",
            "kri\n"
          ]
        }
      ],
      "source": [
        "##read a whole file\n",
        "with open('./example.txt','r')as file:\n",
        "  content=file.read()\n",
        "  print(content)"
      ]
    },
    {
      "cell_type": "code",
      "source": [
        "import os\n",
        "print(os.getcwd())"
      ],
      "metadata": {
        "colab": {
          "base_uri": "https://localhost:8080/"
        },
        "id": "B0URz61ZPP_G",
        "outputId": "2fc731d9-a295-483d-fdb8-7f38cb7d1dab"
      },
      "execution_count": 5,
      "outputs": [
        {
          "output_type": "stream",
          "name": "stdout",
          "text": [
            "/content\n"
          ]
        }
      ]
    },
    {
      "cell_type": "code",
      "source": [
        "with open('./example.txt','r')as file:\n",
        "  for line in file:\n",
        "    print(line.strip())"
      ],
      "metadata": {
        "colab": {
          "base_uri": "https://localhost:8080/"
        },
        "id": "Pwbj05zkPcud",
        "outputId": "f1bb572a-9709-4a5b-9b58-529010378a95"
      },
      "execution_count": 10,
      "outputs": [
        {
          "output_type": "stream",
          "name": "stdout",
          "text": [
            "hello world\n",
            "this is a test\n"
          ]
        }
      ]
    },
    {
      "cell_type": "code",
      "source": [
        "##writing a file\n",
        "with open('./example.txt','w')as file:\n",
        "  file.write('hello world\\n')\n",
        "  file.write('this is a test\\n')"
      ],
      "metadata": {
        "id": "vLAOUiArPyrS"
      },
      "execution_count": 9,
      "outputs": []
    },
    {
      "cell_type": "code",
      "source": [
        "## write a file without overwriting\n",
        "with open('./example.txt','a')as file:\n",
        "  file.write('this is a test\\n')\n",
        "  file.write('name is khan\\n')"
      ],
      "metadata": {
        "id": "96lAPWzEP7MS"
      },
      "execution_count": 13,
      "outputs": []
    },
    {
      "cell_type": "code",
      "source": [
        "with open('./example.txt','r')as file:\n",
        "  for line in file:\n",
        "    print(line.strip())"
      ],
      "metadata": {
        "colab": {
          "base_uri": "https://localhost:8080/"
        },
        "id": "8biPJVH7QJQy",
        "outputId": "b3e6ef31-ff5a-4838-d865-d28a358e8e83"
      },
      "execution_count": 16,
      "outputs": [
        {
          "output_type": "stream",
          "name": "stdout",
          "text": [
            "hello world\n",
            "this is a test\n",
            "this is a test\n",
            "this is a test\n",
            "name is khan\n",
            "first line\n",
            "second line\n",
            "third line\n"
          ]
        }
      ]
    },
    {
      "cell_type": "code",
      "source": [
        "## writing a list of file\n",
        "lines=['first line\\n','second line\\n','third line\\n']\n",
        "with open('./example.txt','a')as file:\n",
        "  file.writelines(lines)"
      ],
      "metadata": {
        "id": "Nry7vTlmQK_u"
      },
      "execution_count": 15,
      "outputs": []
    },
    {
      "cell_type": "code",
      "source": [
        "## binary files\n",
        "data=b'\\x00\\x01\\x02\\x03'\n",
        "with open('example.bin','wb') as file:\n",
        "  file.write(data)"
      ],
      "metadata": {
        "id": "sFuYHb-8QiB7"
      },
      "execution_count": 17,
      "outputs": []
    },
    {
      "cell_type": "code",
      "source": [
        "with open('example.bin','rb') as file:\n",
        "  data=file.read()\n",
        "  print(data)"
      ],
      "metadata": {
        "colab": {
          "base_uri": "https://localhost:8080/"
        },
        "id": "G5EGXQhGQ7ak",
        "outputId": "63fedb7a-edd1-453e-f2eb-23f6ab1154df"
      },
      "execution_count": 18,
      "outputs": [
        {
          "output_type": "stream",
          "name": "stdout",
          "text": [
            "b'\\x00\\x01\\x02\\x03'\n"
          ]
        }
      ]
    },
    {
      "cell_type": "code",
      "source": [
        "## writing and than reading a file\n",
        "with open('exaple.txt','w+') as file:\n",
        "  file.write(\"hello world\\n\")\n",
        "  file.write(\"this is a new line\\n\")\n",
        "\n",
        "  ##move the file cursor to the beginning\n",
        "  # file.seek(0)\n",
        "\n",
        "  ##read the content of the file\n",
        "  content=file.read()\n",
        "  print(content)"
      ],
      "metadata": {
        "colab": {
          "base_uri": "https://localhost:8080/"
        },
        "id": "1ek1E-MbQ_Av",
        "outputId": "973f94e8-0be3-4ace-e3af-aa2866548081"
      },
      "execution_count": 19,
      "outputs": [
        {
          "output_type": "stream",
          "name": "stdout",
          "text": [
            "\n"
          ]
        }
      ]
    },
    {
      "cell_type": "code",
      "source": [
        "## writing and than reading a file\n",
        "with open('exaple.txt','w+') as file:\n",
        "  file.write(\"hello world\\n\")\n",
        "  file.write(\"this is a new line\\n\")\n",
        "\n",
        "  ##move the file cursor to the beginning\n",
        "  file.seek(0)\n",
        "\n",
        "  ##read the content of the file\n",
        "  content=file.read()\n",
        "  print(content)"
      ],
      "metadata": {
        "colab": {
          "base_uri": "https://localhost:8080/"
        },
        "id": "4TN8MzFhZ7qI",
        "outputId": "66c4ca9d-76f9-4272-f3d7-073225b2711b"
      },
      "execution_count": 22,
      "outputs": [
        {
          "output_type": "stream",
          "name": "stdout",
          "text": [
            "hello world\n",
            "this is a new line\n",
            "\n"
          ]
        }
      ]
    },
    {
      "cell_type": "code",
      "source": [],
      "metadata": {
        "id": "deohjxUwaADU"
      },
      "execution_count": null,
      "outputs": []
    }
  ]
}