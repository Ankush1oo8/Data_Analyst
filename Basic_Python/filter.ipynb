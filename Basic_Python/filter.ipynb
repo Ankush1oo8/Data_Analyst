{
  "nbformat": 4,
  "nbformat_minor": 0,
  "metadata": {
    "colab": {
      "provenance": [],
      "authorship_tag": "ABX9TyMrR5m4ROFZ3EcJqWxyJAIs",
      "include_colab_link": true
    },
    "kernelspec": {
      "name": "python3",
      "display_name": "Python 3"
    },
    "language_info": {
      "name": "python"
    }
  },
  "cells": [
    {
      "cell_type": "markdown",
      "metadata": {
        "id": "view-in-github",
        "colab_type": "text"
      },
      "source": [
        "<a href=\"https://colab.research.google.com/github/Ankush1oo8/Data_Analyst/blob/main/Basic_Python/filter.ipynb\" target=\"_parent\"><img src=\"https://colab.research.google.com/assets/colab-badge.svg\" alt=\"Open In Colab\"/></a>"
      ]
    },
    {
      "cell_type": "markdown",
      "source": [
        "Understanding the filter function\n",
        "\n",
        "The filter function is a built-in Python function that allows you to select items from an iterable (like a list, tuple, or string) based on a specific condition. It returns an iterator containing the items that satisfy the condition.\n",
        "\n",
        "Syntax\n",
        "```\n",
        "filter(function, iterable)\n",
        "```\n",
        "function: A function that takes a single argument and returns True if the argument should be included in the filtered result, or False otherwise.\n",
        "\n",
        "iterable: The sequence of items you want to filter."
      ],
      "metadata": {
        "id": "9K4fbYVK4VWM"
      }
    },
    {
      "cell_type": "code",
      "execution_count": null,
      "metadata": {
        "id": "J56gwTNr4MrK"
      },
      "outputs": [],
      "source": [
        "def even(n):\n",
        "  if n%2==0:\n",
        "    return True\n",
        "  else:\n",
        "    return False"
      ]
    },
    {
      "cell_type": "code",
      "source": [
        "lst=[1,2,3,4,5,6,7,7,8,9]\n",
        "filter(even,lst)"
      ],
      "metadata": {
        "id": "hrnc2Edk4gx6",
        "colab": {
          "base_uri": "https://localhost:8080/"
        },
        "outputId": "67c5cebb-6e0e-4318-c3fc-0513ee1b73dc"
      },
      "execution_count": 4,
      "outputs": [
        {
          "output_type": "execute_result",
          "data": {
            "text/plain": [
              "<filter at 0x789a537896c0>"
            ]
          },
          "metadata": {},
          "execution_count": 4
        }
      ]
    },
    {
      "cell_type": "code",
      "source": [
        "only_even=list(filter(even,lst))\n",
        "print(only_even)"
      ],
      "metadata": {
        "id": "DUhsh25x-Al7",
        "colab": {
          "base_uri": "https://localhost:8080/"
        },
        "outputId": "5a0f152b-3a24-4081-abe7-093285615b5a"
      },
      "execution_count": 6,
      "outputs": [
        {
          "output_type": "stream",
          "name": "stdout",
          "text": [
            "[2, 4, 6, 8]\n"
          ]
        }
      ]
    },
    {
      "cell_type": "code",
      "source": [
        "numbers=[1,2,3,4,5,6,7,8,9]\n",
        "greater_than_5=list(filter(lambda x:x>5,numbers))\n",
        "print(greater_than_5)"
      ],
      "metadata": {
        "id": "8SZKIgFQ-Iht",
        "colab": {
          "base_uri": "https://localhost:8080/"
        },
        "outputId": "6a8b5cf7-de80-4a2d-a3c0-e7dcbfd580d4"
      },
      "execution_count": 7,
      "outputs": [
        {
          "output_type": "stream",
          "name": "stdout",
          "text": [
            "[6, 7, 8, 9]\n"
          ]
        }
      ]
    },
    {
      "cell_type": "code",
      "source": [
        "## filter with multiple conditions\n",
        "even_and_greater_than_5=list(filter(lambda x:x>5 and x%2==0,numbers))\n",
        "print(even_and_greater_than_5\n",
        "      )"
      ],
      "metadata": {
        "colab": {
          "base_uri": "https://localhost:8080/"
        },
        "id": "vka8ByGh-vfl",
        "outputId": "3c7f3852-fd14-430f-8d03-290136a2afa8"
      },
      "execution_count": 8,
      "outputs": [
        {
          "output_type": "stream",
          "name": "stdout",
          "text": [
            "[6, 8]\n"
          ]
        }
      ]
    },
    {
      "cell_type": "code",
      "source": [
        "# filter() to check if the age greater tham 25 in dic\n",
        "people=[\n",
        "    {'name':\"Ankush\",'age':25},\n",
        "    {'name':\"Anku\",'age':55},\n",
        "    {'name':\"Ank\",'age':30}\n",
        "]\n",
        "\n",
        "def age_greater_than_25(person):\n",
        "  return person['age']>25\n",
        "\n",
        "age_list=list(filter(age_greater_than_25,people))\n",
        "print(age_list)"
      ],
      "metadata": {
        "colab": {
          "base_uri": "https://localhost:8080/"
        },
        "id": "Zv2wlEoZ_Ezy",
        "outputId": "d75ae032-0a4a-482a-8301-ccf33edad536"
      },
      "execution_count": 3,
      "outputs": [
        {
          "output_type": "stream",
          "name": "stdout",
          "text": [
            "[{'name': 'Anku', 'age': 55}, {'name': 'Ank', 'age': 30}]\n"
          ]
        }
      ]
    },
    {
      "cell_type": "code",
      "source": [],
      "metadata": {
        "id": "v7M0xijIzfcs"
      },
      "execution_count": null,
      "outputs": []
    }
  ]
}