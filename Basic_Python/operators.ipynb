{
  "nbformat": 4,
  "nbformat_minor": 0,
  "metadata": {
    "colab": {
      "provenance": [],
      "authorship_tag": "ABX9TyOCwT6HFAivDiM8pzYbJ/z7",
      "include_colab_link": true
    },
    "kernelspec": {
      "name": "python3",
      "display_name": "Python 3"
    },
    "language_info": {
      "name": "python"
    }
  },
  "cells": [
    {
      "cell_type": "markdown",
      "metadata": {
        "id": "view-in-github",
        "colab_type": "text"
      },
      "source": [
        "<a href=\"https://colab.research.google.com/github/Ankush1oo8/Data_Analyst/blob/main/Basic_Python/operators.ipynb\" target=\"_parent\"><img src=\"https://colab.research.google.com/assets/colab-badge.svg\" alt=\"Open In Colab\"/></a>"
      ]
    },
    {
      "cell_type": "markdown",
      "source": [
        "Arithmetic Operators\n",
        "\n",
        "+ (Addition): Adds two operands.\n",
        "- (Subtraction): Subtracts the second operand from the first.\n",
        "* (Multiplication): Multiplies two operands.\n",
        "/ (Division): Divides the first operand by the second.\n",
        "% (Modulo): Returns the remainder of the division.\n",
        "`` (Exponentiation): Raises the first operand to the power of the second.\n",
        "// (Floor Division): Returns the quotient of the division, rounded down to the nearest integer.\n",
        "Comparison Operators\n",
        "\n",
        "== (Equal to): Checks if two operands are equal.\n",
        "!= (Not equal to): Checks if two operands are not equal.\n",
        "> (Greater than): Checks if the first operand is greater than the second.\n",
        "< (Less than): Checks if the first operand is less than the second.\n",
        ">= (Greater than or equal to): Checks if the first operand is greater than or equal to the second.\n",
        "<= (Less than or equal to): Checks if the first operand is less than or equal to the second.\n",
        "Logical Operators\n",
        "\n",
        "and (Logical AND): Returns True if both operands are True.\n",
        "or (Logical OR): Returns True if at least one operand is True.\n",
        "not (Logical NOT): Returns True if the operand is False.\n",
        "Assignment Operators\n",
        "\n",
        "= (Assignment): Assigns a value to a variable.\n",
        "+= (Add and assign): Adds the right operand to the left and assigns the result to the left.\n",
        "-= (Subtract and assign): Subtracts the right operand from the left and assigns the result to the left.\n",
        "*= (Multiply and assign): Multiplies the left operand by the right and assigns the result to the left.\n",
        "/= (Divide and assign): Divides the left operand by the right and assigns the result to the left.\n",
        "%= (Modulo and assign): Performs modulo on the left and right operands and assigns the result to the left.\n",
        "`=` (Exponentiate and assign):** Raises the left operand to the power of the right and assigns the result to the left.\n",
        "//= (Floor divide and assign): Performs floor division on the left and right operands and assigns the result to the left.\n",
        "Bitwise Operators\n",
        "\n",
        "& (Bitwise AND): Performs bitwise AND on the operands.\n",
        "| (Bitwise OR): Performs bitwise OR on the operands.\n",
        "^ (Bitwise XOR): Performs bitwise XOR on the operands.\n",
        "~ (Bitwise NOT): Performs bitwise NOT on the operand.\n",
        "<< (Left shift): Shifts the bits of the left operand to the left by the number of bits specified by the right operand.\n",
        ">> (Right shift): Shifts the bits of the left operand to the right by the number of bits specified by the right operand.\n",
        "Other Operators\n",
        "\n",
        "is (Identity): Checks if two variables refer to the same object.\n",
        "is not (Negated identity): Checks if two variables do not refer to the same object.\n",
        "in (Membership): Checks if a value is present in a sequence.\n",
        "not in (Negated membership): Checks if a value is not present in a sequence."
      ],
      "metadata": {
        "id": "aMkrggiO5kj9"
      }
    },
    {
      "cell_type": "code",
      "source": [
        "# arithmatic operators\n",
        "a=10\n",
        "b=5\n",
        "result=a+b\n",
        "print(result)"
      ],
      "metadata": {
        "colab": {
          "base_uri": "https://localhost:8080/"
        },
        "id": "NgOggyOX5q7u",
        "outputId": "3e43a782-3736-4082-acdf-55fcf1cc7fc0"
      },
      "execution_count": 1,
      "outputs": [
        {
          "output_type": "stream",
          "name": "stdout",
          "text": [
            "15\n"
          ]
        }
      ]
    },
    {
      "cell_type": "code",
      "source": [
        "sub_result=a-b #subtarction\n",
        "print(sub_result)"
      ],
      "metadata": {
        "colab": {
          "base_uri": "https://localhost:8080/"
        },
        "id": "bEJydFDV5z-q",
        "outputId": "24bfe8dc-bf56-4350-9598-e4717efa6336"
      },
      "execution_count": 2,
      "outputs": [
        {
          "output_type": "stream",
          "name": "stdout",
          "text": [
            "5\n"
          ]
        }
      ]
    },
    {
      "cell_type": "code",
      "source": [
        "mul_res=a*b\n",
        "print(mul_res) #multiplication"
      ],
      "metadata": {
        "colab": {
          "base_uri": "https://localhost:8080/"
        },
        "id": "lomyiCT955wQ",
        "outputId": "e8c75363-43f7-45c9-fca2-3196d704d157"
      },
      "execution_count": 3,
      "outputs": [
        {
          "output_type": "stream",
          "name": "stdout",
          "text": [
            "50\n"
          ]
        }
      ]
    },
    {
      "cell_type": "code",
      "source": [
        "div_res=a/b\n",
        "print(div_res) #division"
      ],
      "metadata": {
        "colab": {
          "base_uri": "https://localhost:8080/"
        },
        "id": "WhLTJ0fS59of",
        "outputId": "cd9c3bfd-440b-48d5-abf5-07bb869f04d5"
      },
      "execution_count": 4,
      "outputs": [
        {
          "output_type": "stream",
          "name": "stdout",
          "text": [
            "2.0\n"
          ]
        }
      ]
    },
    {
      "cell_type": "code",
      "source": [
        "floor_div_res=a//b #floor division\n",
        "print(floor_div_res)"
      ],
      "metadata": {
        "colab": {
          "base_uri": "https://localhost:8080/"
        },
        "id": "w0fjNwZU6BUb",
        "outputId": "f7d1adc2-6e00-45d8-a42c-cf06a3f30268"
      },
      "execution_count": 5,
      "outputs": [
        {
          "output_type": "stream",
          "name": "stdout",
          "text": [
            "2\n"
          ]
        }
      ]
    },
    {
      "cell_type": "code",
      "source": [
        "mod_res=a%b\n",
        "print(mod_res) #moduler"
      ],
      "metadata": {
        "colab": {
          "base_uri": "https://localhost:8080/"
        },
        "id": "gtqnHmhX6FRP",
        "outputId": "f48f3d6c-e8eb-4b10-f2ff-a55ad524c531"
      },
      "execution_count": 6,
      "outputs": [
        {
          "output_type": "stream",
          "name": "stdout",
          "text": [
            "0\n"
          ]
        }
      ]
    },
    {
      "cell_type": "code",
      "source": [
        "exponent_res=a**b\n",
        "print(exponent_res) #exponential"
      ],
      "metadata": {
        "colab": {
          "base_uri": "https://localhost:8080/"
        },
        "id": "cms4R1SI6Ru5",
        "outputId": "65fabbcc-7e0a-4d86-9958-583a93742b6f"
      },
      "execution_count": 7,
      "outputs": [
        {
          "output_type": "stream",
          "name": "stdout",
          "text": [
            "100000\n"
          ]
        }
      ]
    },
    {
      "cell_type": "code",
      "source": [
        "#floor division\n",
        "\n",
        "21/4"
      ],
      "metadata": {
        "colab": {
          "base_uri": "https://localhost:8080/"
        },
        "id": "d-7HLPRs6V31",
        "outputId": "764aa31d-b9a8-47b3-d203-a1f0bddfe78d"
      },
      "execution_count": 8,
      "outputs": [
        {
          "output_type": "execute_result",
          "data": {
            "text/plain": [
              "5.25"
            ]
          },
          "metadata": {},
          "execution_count": 8
        }
      ]
    },
    {
      "cell_type": "code",
      "source": [
        "21//4"
      ],
      "metadata": {
        "colab": {
          "base_uri": "https://localhost:8080/"
        },
        "id": "VDbKgKoY6xcP",
        "outputId": "005fe999-e7bf-4fa3-9526-cad0e441940e"
      },
      "execution_count": 9,
      "outputs": [
        {
          "output_type": "execute_result",
          "data": {
            "text/plain": [
              "5"
            ]
          },
          "metadata": {},
          "execution_count": 9
        }
      ]
    },
    {
      "cell_type": "code",
      "source": [
        "#comparision operator\n",
        "# ==\n",
        "\n",
        "a=10\n",
        "b=10\n",
        "res=(a==b)\n",
        "print(res)"
      ],
      "metadata": {
        "colab": {
          "base_uri": "https://localhost:8080/"
        },
        "id": "QKL7zPbh6yly",
        "outputId": "0e476d4f-6d76-4517-ee50-30126f39519e"
      },
      "execution_count": 10,
      "outputs": [
        {
          "output_type": "stream",
          "name": "stdout",
          "text": [
            "True\n"
          ]
        }
      ]
    },
    {
      "cell_type": "code",
      "source": [
        "# Not Equal to\n",
        "#!=\n",
        "print(a!=b)"
      ],
      "metadata": {
        "colab": {
          "base_uri": "https://localhost:8080/"
        },
        "id": "iEcW5Unb6-11",
        "outputId": "d4eda772-5441-4380-966e-f1cf5f4925c0"
      },
      "execution_count": 11,
      "outputs": [
        {
          "output_type": "stream",
          "name": "stdout",
          "text": [
            "False\n"
          ]
        }
      ]
    },
    {
      "cell_type": "code",
      "source": [
        "#greater than\n",
        "num1=45\n",
        "num2=55\n",
        "num1>num2"
      ],
      "metadata": {
        "colab": {
          "base_uri": "https://localhost:8080/"
        },
        "id": "tvC4NVf_e5SB",
        "outputId": "d0ea560e-1fc0-4870-8f19-6ab461300cad"
      },
      "execution_count": 12,
      "outputs": [
        {
          "output_type": "execute_result",
          "data": {
            "text/plain": [
              "False"
            ]
          },
          "metadata": {},
          "execution_count": 12
        }
      ]
    },
    {
      "cell_type": "code",
      "source": [
        "num1<num2 #less than"
      ],
      "metadata": {
        "colab": {
          "base_uri": "https://localhost:8080/"
        },
        "id": "r5NDXVgCfA5T",
        "outputId": "d587ae80-4062-4a7b-c307-db172c76e495"
      },
      "execution_count": 13,
      "outputs": [
        {
          "output_type": "execute_result",
          "data": {
            "text/plain": [
              "True"
            ]
          },
          "metadata": {},
          "execution_count": 13
        }
      ]
    },
    {
      "cell_type": "code",
      "source": [
        "num1=45\n",
        "num2=45\n",
        "num1>=num2 #greater than equal to"
      ],
      "metadata": {
        "colab": {
          "base_uri": "https://localhost:8080/"
        },
        "id": "RiQcHGa3fDsW",
        "outputId": "566f4644-e0cf-45dd-de17-55a7eb100de1"
      },
      "execution_count": 15,
      "outputs": [
        {
          "output_type": "execute_result",
          "data": {
            "text/plain": [
              "True"
            ]
          },
          "metadata": {},
          "execution_count": 15
        }
      ]
    },
    {
      "cell_type": "markdown",
      "source": [
        "# LOGICAL OPERATOR"
      ],
      "metadata": {
        "id": "UdNkdkG0fUhG"
      }
    },
    {
      "cell_type": "code",
      "source": [
        "# And Not OR\n",
        "x=True\n",
        "y=True\n",
        "x and y"
      ],
      "metadata": {
        "colab": {
          "base_uri": "https://localhost:8080/"
        },
        "id": "xbQg3HyFfXF_",
        "outputId": "54273b6e-9e43-4972-c353-c00c00fb8a2d"
      },
      "execution_count": 16,
      "outputs": [
        {
          "output_type": "execute_result",
          "data": {
            "text/plain": [
              "True"
            ]
          },
          "metadata": {},
          "execution_count": 16
        }
      ]
    },
    {
      "cell_type": "code",
      "source": [
        "y = False\n",
        "x or y"
      ],
      "metadata": {
        "colab": {
          "base_uri": "https://localhost:8080/"
        },
        "id": "-qAiEriJfgwa",
        "outputId": "e49b981b-0473-4c41-f0f5-8fe7030437be"
      },
      "execution_count": 17,
      "outputs": [
        {
          "output_type": "execute_result",
          "data": {
            "text/plain": [
              "True"
            ]
          },
          "metadata": {},
          "execution_count": 17
        }
      ]
    },
    {
      "cell_type": "code",
      "source": [
        "# Not operation\n",
        "x=True\n",
        "not x"
      ],
      "metadata": {
        "colab": {
          "base_uri": "https://localhost:8080/"
        },
        "id": "fQX0pgyqfkoE",
        "outputId": "52144404-e4ef-4a8f-e4d5-5b34c3d6a4f6"
      },
      "execution_count": 18,
      "outputs": [
        {
          "output_type": "execute_result",
          "data": {
            "text/plain": [
              "False"
            ]
          },
          "metadata": {},
          "execution_count": 18
        }
      ]
    },
    {
      "cell_type": "code",
      "source": [],
      "metadata": {
        "id": "jW79S6Ekfp0n"
      },
      "execution_count": null,
      "outputs": []
    }
  ]
}