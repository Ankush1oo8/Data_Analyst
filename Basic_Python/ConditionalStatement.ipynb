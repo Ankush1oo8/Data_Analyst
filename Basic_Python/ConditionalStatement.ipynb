{
  "nbformat": 4,
  "nbformat_minor": 0,
  "metadata": {
    "colab": {
      "provenance": [],
      "authorship_tag": "ABX9TyM9g7+Tb1uzj/W9uS6FEpxA",
      "include_colab_link": true
    },
    "kernelspec": {
      "name": "python3",
      "display_name": "Python 3"
    },
    "language_info": {
      "name": "python"
    }
  },
  "cells": [
    {
      "cell_type": "markdown",
      "metadata": {
        "id": "view-in-github",
        "colab_type": "text"
      },
      "source": [
        "<a href=\"https://colab.research.google.com/github/Ankush1oo8/Data_Analyst/blob/main/Basic_Python/ConditionalStatement.ipynb\" target=\"_parent\"><img src=\"https://colab.research.google.com/assets/colab-badge.svg\" alt=\"Open In Colab\"/></a>"
      ]
    },
    {
      "cell_type": "markdown",
      "source": [
        "Conditional Statements in Python\n",
        "\n",
        "Conditional statements control the flow of execution in your code based on conditions. The primary conditional statement in Python is the if statement.\n",
        "\n",
        "1. if Statement\n",
        "\n",
        "age = 20\n",
        "   if age >= 18:\n",
        "       print(\"You are an adult.\")\n",
        "   \n",
        "Use code with caution\n",
        "How it works: If the expression age >= 18 evaluates to True, the indented code block under the if statement will be executed. In this case, if age is 18 or greater, \"You are an adult.\" will be printed.\n",
        "2. else Statement\n",
        "```\n",
        "age = 15\n",
        "   if age >= 18:\n",
        "       print(\"You are an adult.\")\n",
        "   else:\n",
        "       print(\"You are a minor.\")\n",
        "```\n",
        "Use code with caution\n",
        "How it works: If the if condition is False, the code block under the else statement is executed. Here, if age is less than 18, \"You are a minor.\" will be printed.\n",
        "3. elif Statement\n",
        "```\n",
        "age = 25\n",
        "   if age >= 30:\n",
        "       print(\"You are in your 30s or older.\")\n",
        "   elif age >= 20:\n",
        "       print(\"You are in your 20s.\")\n",
        "   else:\n",
        "       print(\"You are a teenager or younger.\")\n",
        "```\n",
        "Use code with caution\n",
        "How it works: elif (short for \"else if\") allows you to check multiple conditions sequentially. If the if condition is False, it checks the elif condition. If that's also False, it moves to the next elif or the else block if present. In this example, different messages are printed based on the age range.\n",
        "Example in Google Colab:\n",
        "\n",
        "You can run these code snippets directly in a Google Colab notebook cell to see the output. Remember to replace the example values with your desired data."
      ],
      "metadata": {
        "id": "t9mRZcb1gelL"
      }
    },
    {
      "cell_type": "code",
      "source": [
        "age=10\n",
        "if age>2:\n",
        "  print(\"you are adult\")\n",
        "else:\n",
        "  print(\"you are minor\")"
      ],
      "metadata": {
        "colab": {
          "base_uri": "https://localhost:8080/"
        },
        "id": "G1Sdeubzgnkf",
        "outputId": "a654a35b-7114-43fe-ad08-c58848ffa87c"
      },
      "execution_count": 2,
      "outputs": [
        {
          "output_type": "stream",
          "name": "stdout",
          "text": [
            "you are adult\n"
          ]
        }
      ]
    },
    {
      "cell_type": "code",
      "source": [
        "if age==10:\n",
        "  print(\"you are adult\")\n",
        "elif age>10:\n",
        "  print(\"you are more than 10\")\n",
        "else:\n",
        "  print(\"you are less then 10\")"
      ],
      "metadata": {
        "colab": {
          "base_uri": "https://localhost:8080/"
        },
        "id": "74a7WYGEgqqj",
        "outputId": "c5426380-b952-4569-eed5-0ceaaf940dcc"
      },
      "execution_count": 4,
      "outputs": [
        {
          "output_type": "stream",
          "name": "stdout",
          "text": [
            "you are adult\n"
          ]
        }
      ]
    },
    {
      "cell_type": "code",
      "source": [
        "age=11\n",
        "if age==10:\n",
        "  print(\"you are adult\")\n",
        "elif age>10:\n",
        "  print(\"you are more than 10\")\n",
        "else:\n",
        "  print(\"you are less then 10\")"
      ],
      "metadata": {
        "colab": {
          "base_uri": "https://localhost:8080/"
        },
        "id": "eYxo3vyng4It",
        "outputId": "91ebe9c7-2db4-409b-a790-a75289cfe814"
      },
      "execution_count": 5,
      "outputs": [
        {
          "output_type": "stream",
          "name": "stdout",
          "text": [
            "you are more than 10\n"
          ]
        }
      ]
    },
    {
      "cell_type": "code",
      "source": [
        "age =2\n",
        "if age==10:\n",
        "  print(\"you are adult\")\n",
        "elif age>10:\n",
        "  print(\"you are more than 10\")\n",
        "else:\n",
        "  print(\"you are less then 10\")"
      ],
      "metadata": {
        "colab": {
          "base_uri": "https://localhost:8080/"
        },
        "id": "qQw3999vhDnl",
        "outputId": "9a8724ca-8bf5-4156-c5ae-adfd7473e9d8"
      },
      "execution_count": 6,
      "outputs": [
        {
          "output_type": "stream",
          "name": "stdout",
          "text": [
            "you are less then 10\n"
          ]
        }
      ]
    },
    {
      "cell_type": "code",
      "source": [
        "# Take input number check for even and odd\n",
        "x=int(input(\"Enter An Input: \"))\n",
        "if x%2==0:\n",
        "  print(\"Even Number\")\n",
        "else:\n",
        "  print(\"Odd Number\")"
      ],
      "metadata": {
        "colab": {
          "base_uri": "https://localhost:8080/"
        },
        "id": "LSBn1mnjhFyY",
        "outputId": "4b8069a2-5c6a-461f-a87e-dde952b54532"
      },
      "execution_count": 2,
      "outputs": [
        {
          "output_type": "stream",
          "name": "stdout",
          "text": [
            "Enter An Input: 5\n",
            "Odd Number\n"
          ]
        }
      ]
    },
    {
      "cell_type": "code",
      "source": [
        "year=int(input(\"Enter An YEAR: \"))\n",
        "if year%4==0:\n",
        "  if year%100==0:\n",
        "    if year%400==0:\n",
        "      print(\"Leap Year\")\n",
        "    else:\n",
        "      print(\"Not Leap Year\")\n",
        "  else:\n",
        "    print(\"Leap Year\")\n",
        "else:\n",
        "  print(\"Not Leap Year\")"
      ],
      "metadata": {
        "colab": {
          "base_uri": "https://localhost:8080/"
        },
        "id": "WeiXLWGMHyhJ",
        "outputId": "69050ee1-f61f-44ec-9cb5-481e460b56e1"
      },
      "execution_count": 4,
      "outputs": [
        {
          "output_type": "stream",
          "name": "stdout",
          "text": [
            "Enter An YEAR: 2004\n",
            "Leap Year\n"
          ]
        }
      ]
    },
    {
      "cell_type": "code",
      "source": [],
      "metadata": {
        "id": "g2PHxf_UIYjX"
      },
      "execution_count": null,
      "outputs": []
    }
  ]
}