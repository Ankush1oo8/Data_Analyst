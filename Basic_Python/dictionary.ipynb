{
  "nbformat": 4,
  "nbformat_minor": 0,
  "metadata": {
    "colab": {
      "provenance": [],
      "authorship_tag": "ABX9TyNGQl/Rtf4QgnnVJyMV3ciR",
      "include_colab_link": true
    },
    "kernelspec": {
      "name": "python3",
      "display_name": "Python 3"
    },
    "language_info": {
      "name": "python"
    }
  },
  "cells": [
    {
      "cell_type": "markdown",
      "metadata": {
        "id": "view-in-github",
        "colab_type": "text"
      },
      "source": [
        "<a href=\"https://colab.research.google.com/github/Ankush1oo8/Data_Analyst/blob/main/Basic_Python/dictionary.ipynb\" target=\"_parent\"><img src=\"https://colab.research.google.com/assets/colab-badge.svg\" alt=\"Open In Colab\"/></a>"
      ]
    },
    {
      "cell_type": "markdown",
      "source": [
        "What is a dictionary?\n",
        "\n",
        "A dictionary in Python is an unordered collection of key-value pairs. It's a versatile data structure used to store and retrieve data using a unique key for each value. Think of it like a real-world dictionary where you look up words (keys) to find their definitions (values).\n",
        "\n",
        "Creating a Dictionary:\n",
        "\n",
        "You can create a dictionary in Python using curly braces {} and separating key-value pairs with colons :. Here's an example:"
      ],
      "metadata": {
        "id": "V7p6Qqruqfbl"
      }
    },
    {
      "cell_type": "code",
      "execution_count": 1,
      "metadata": {
        "id": "8o3qxpEJqY2_"
      },
      "outputs": [],
      "source": [
        "my_dict = {'apple': 1, 'banana': 2, 'orange': 3}"
      ]
    },
    {
      "cell_type": "markdown",
      "source": [
        "Accessing Values:\n",
        "\n",
        "To access a value in a dictionary, you use the corresponding key within square brackets []:"
      ],
      "metadata": {
        "id": "vNPsUfuYql5P"
      }
    },
    {
      "cell_type": "code",
      "source": [
        "apple_value = my_dict['apple']  # apple_value will be 1"
      ],
      "metadata": {
        "id": "GBpbSYn6qj7s"
      },
      "execution_count": 2,
      "outputs": []
    },
    {
      "cell_type": "markdown",
      "source": [
        "Adding or Modifying Entries:\n",
        "\n",
        "You can add new key-value pairs or modify existing ones using assignment:"
      ],
      "metadata": {
        "id": "Nvue4P6pqp8T"
      }
    },
    {
      "cell_type": "code",
      "source": [
        "my_dict['grape'] = 4  # Adds a new entry with key 'grape' and value 4\n",
        "my_dict['apple'] = 5  # Modifies the value of 'apple' to 5"
      ],
      "metadata": {
        "id": "WpFX8tUkqoI_"
      },
      "execution_count": 3,
      "outputs": []
    },
    {
      "cell_type": "markdown",
      "source": [
        "Other Dictionary Operations:\n",
        "\n",
        "- len(my_dict): Returns the number of key-value pairs in the dictionary.\n",
        "- my_dict.keys(): Returns a list of all keys in the dictionary.\n",
        "- my_dict.values(): Returns a list of all values in the dictionary.\n",
        "- my_dict.items(): Returns a list of (key, value) pairs as tuples.\n",
        "- del my_dict['apple']: Deletes the entry with the key 'apple'."
      ],
      "metadata": {
        "id": "g6pxm15Oqtcb"
      }
    },
    {
      "cell_type": "code",
      "source": [
        "my_dict = {'name': 'Alice', 'age': 30, 'city': 'New York'}\n",
        "print(my_dict['name'])  # Output: Alice\n",
        "print(my_dict.keys())   # Output: dict_keys(['name', 'age', 'city'])"
      ],
      "metadata": {
        "colab": {
          "base_uri": "https://localhost:8080/"
        },
        "id": "obECafEBqrtr",
        "outputId": "f65c6084-ffca-4a86-a2ba-547a4fefb31c"
      },
      "execution_count": 4,
      "outputs": [
        {
          "output_type": "stream",
          "name": "stdout",
          "text": [
            "Alice\n",
            "dict_keys(['name', 'age', 'city'])\n"
          ]
        }
      ]
    },
    {
      "cell_type": "code",
      "source": [
        "#error\n",
        "student={\"name\":\"ankush\",\"age\":32,\"short_name\":\"ank\"}\n",
        "print(student)"
      ],
      "metadata": {
        "colab": {
          "base_uri": "https://localhost:8080/"
        },
        "id": "fDWKXkdFq0OD",
        "outputId": "7001b6c9-7cca-4eb8-c30f-6211c0c30f93"
      },
      "execution_count": 10,
      "outputs": [
        {
          "output_type": "stream",
          "name": "stdout",
          "text": [
            "{'name': 'ankush', 'age': 32, 'short_name': 'ank'}\n"
          ]
        }
      ]
    },
    {
      "cell_type": "code",
      "source": [
        "type(student)"
      ],
      "metadata": {
        "colab": {
          "base_uri": "https://localhost:8080/"
        },
        "id": "ifv7cAU5rAGP",
        "outputId": "e3f91ac4-59d4-43d2-9c71-7eda305c1a63"
      },
      "execution_count": 6,
      "outputs": [
        {
          "output_type": "execute_result",
          "data": {
            "text/plain": [
              "dict"
            ]
          },
          "metadata": {},
          "execution_count": 6
        }
      ]
    },
    {
      "cell_type": "code",
      "source": [
        "print(my_dict[\"age\"])"
      ],
      "metadata": {
        "colab": {
          "base_uri": "https://localhost:8080/"
        },
        "id": "lfEmLY-urDZM",
        "outputId": "dbd91cae-51b1-4658-d94a-d62b56835e4f"
      },
      "execution_count": 8,
      "outputs": [
        {
          "output_type": "stream",
          "name": "stdout",
          "text": [
            "30\n"
          ]
        }
      ]
    },
    {
      "cell_type": "code",
      "source": [
        "print(student[\"name\"])"
      ],
      "metadata": {
        "colab": {
          "base_uri": "https://localhost:8080/"
        },
        "id": "WMZ2sLBFrJi8",
        "outputId": "dd7cb7b1-b540-4ebd-980a-b85cb1105b5f"
      },
      "execution_count": 11,
      "outputs": [
        {
          "output_type": "stream",
          "name": "stdout",
          "text": [
            "ankush\n"
          ]
        }
      ]
    },
    {
      "cell_type": "code",
      "source": [
        "#using get method\n",
        "print(student.get(\"name\"))"
      ],
      "metadata": {
        "colab": {
          "base_uri": "https://localhost:8080/"
        },
        "id": "nN4Rxuc6rOTA",
        "outputId": "3a9feb1c-c627-4433-b718-37e7d68b3aef"
      },
      "execution_count": 12,
      "outputs": [
        {
          "output_type": "stream",
          "name": "stdout",
          "text": [
            "ankush\n"
          ]
        }
      ]
    },
    {
      "cell_type": "code",
      "source": [
        "print(student.get(\"grade\",\"not available\")) #using default val"
      ],
      "metadata": {
        "colab": {
          "base_uri": "https://localhost:8080/"
        },
        "id": "G2hCD-yYrYIz",
        "outputId": "472e768a-62b7-47cd-b42d-ccab6f896162"
      },
      "execution_count": 13,
      "outputs": [
        {
          "output_type": "stream",
          "name": "stdout",
          "text": [
            "not available\n"
          ]
        }
      ]
    },
    {
      "cell_type": "code",
      "source": [
        "# modifying dic element\n",
        "#dict are mutable\n",
        "#update,addd,delete element\n"
      ],
      "metadata": {
        "id": "v412reHzrdHP"
      },
      "execution_count": 14,
      "outputs": []
    },
    {
      "cell_type": "code",
      "source": [
        "print(student)"
      ],
      "metadata": {
        "colab": {
          "base_uri": "https://localhost:8080/"
        },
        "id": "2rEDLVujrvE3",
        "outputId": "648dbe82-ae2e-47e3-d945-2e15c7222549"
      },
      "execution_count": 15,
      "outputs": [
        {
          "output_type": "stream",
          "name": "stdout",
          "text": [
            "{'name': 'ankush', 'age': 32, 'short_name': 'ank'}\n"
          ]
        }
      ]
    },
    {
      "cell_type": "code",
      "source": [
        "student[\"age\"]=33 #updated\n",
        "print(student)\n",
        "student[\"address\"]=\"shivoor\" #added new key and val\n",
        "print(student)"
      ],
      "metadata": {
        "colab": {
          "base_uri": "https://localhost:8080/"
        },
        "id": "bI6Tp7Xbrwkz",
        "outputId": "c5cd6451-36bc-4de0-c3ee-a35a77011c2f"
      },
      "execution_count": 16,
      "outputs": [
        {
          "output_type": "stream",
          "name": "stdout",
          "text": [
            "{'name': 'ankush', 'age': 33, 'short_name': 'ank'}\n",
            "{'name': 'ankush', 'age': 33, 'short_name': 'ank', 'address': 'shivoor'}\n"
          ]
        }
      ]
    },
    {
      "cell_type": "code",
      "source": [
        "del student[\"age\"] #delete key and val pair"
      ],
      "metadata": {
        "id": "y78u5-Olr73I"
      },
      "execution_count": 17,
      "outputs": []
    },
    {
      "cell_type": "code",
      "source": [
        "print(student)"
      ],
      "metadata": {
        "colab": {
          "base_uri": "https://localhost:8080/"
        },
        "id": "5te7cR2LsGrD",
        "outputId": "9d1471d2-f5c7-4d2f-cdf0-e29c994a6e13"
      },
      "execution_count": 18,
      "outputs": [
        {
          "output_type": "stream",
          "name": "stdout",
          "text": [
            "{'name': 'ankush', 'short_name': 'ank', 'address': 'shivoor'}\n"
          ]
        }
      ]
    },
    {
      "cell_type": "code",
      "source": [
        "##dict method\n",
        "keys=student.keys()\n",
        "print(keys)"
      ],
      "metadata": {
        "colab": {
          "base_uri": "https://localhost:8080/"
        },
        "id": "Mrhv5wxwsIxv",
        "outputId": "f72223a8-ec11-4207-e93f-37c1e1847561"
      },
      "execution_count": 21,
      "outputs": [
        {
          "output_type": "stream",
          "name": "stdout",
          "text": [
            "dict_keys(['name', 'short_name', 'address'])\n"
          ]
        }
      ]
    },
    {
      "cell_type": "code",
      "source": [
        "val=student.values()\n",
        "print(val)"
      ],
      "metadata": {
        "colab": {
          "base_uri": "https://localhost:8080/"
        },
        "id": "pz3rbMZ0sRk4",
        "outputId": "b7ff6cdb-ea3b-415a-980d-3c13537bac11"
      },
      "execution_count": 22,
      "outputs": [
        {
          "output_type": "stream",
          "name": "stdout",
          "text": [
            "dict_values(['ankush', 'ank', 'shivoor'])\n"
          ]
        }
      ]
    },
    {
      "cell_type": "code",
      "source": [
        "items=student.items()\n",
        "print(items)"
      ],
      "metadata": {
        "colab": {
          "base_uri": "https://localhost:8080/"
        },
        "id": "HGowKOU3scjs",
        "outputId": "d79abf54-f795-4cf3-a438-7471a9556c80"
      },
      "execution_count": 24,
      "outputs": [
        {
          "output_type": "stream",
          "name": "stdout",
          "text": [
            "dict_items([('name', 'ankush'), ('short_name', 'ank'), ('address', 'shivoor')])\n"
          ]
        }
      ]
    },
    {
      "cell_type": "code",
      "source": [
        "#shallow copy\n",
        "student2=student\n",
        "print(student2)"
      ],
      "metadata": {
        "colab": {
          "base_uri": "https://localhost:8080/"
        },
        "id": "yUBVW_DRshhH",
        "outputId": "fbef23d5-2c0f-48bc-d082-4a9682e53cc1"
      },
      "execution_count": 25,
      "outputs": [
        {
          "output_type": "stream",
          "name": "stdout",
          "text": [
            "{'name': 'ankush', 'short_name': 'ank', 'address': 'shivoor'}\n"
          ]
        }
      ]
    },
    {
      "cell_type": "code",
      "source": [
        "student[\"name\"]=\"Ankush\""
      ],
      "metadata": {
        "id": "c0unreXPsqvA"
      },
      "execution_count": 26,
      "outputs": []
    },
    {
      "cell_type": "code",
      "source": [
        "print(student2) #this also changes due to shallow copy"
      ],
      "metadata": {
        "colab": {
          "base_uri": "https://localhost:8080/"
        },
        "id": "5tK6RIl1sxM_",
        "outputId": "23cd6265-e737-4be2-ff80-ca313bd6c2d6"
      },
      "execution_count": 27,
      "outputs": [
        {
          "output_type": "stream",
          "name": "stdout",
          "text": [
            "{'name': 'Ankush', 'short_name': 'ank', 'address': 'shivoor'}\n"
          ]
        }
      ]
    },
    {
      "cell_type": "code",
      "source": [
        "student_copy=student.copy()\n",
        "print(student_copy)\n",
        "student[\"grade\"]=\"A+\"\n",
        "print(student_copy) #not changed when original changes\n",
        "print(student)"
      ],
      "metadata": {
        "colab": {
          "base_uri": "https://localhost:8080/"
        },
        "id": "Rp4Uo_keszpc",
        "outputId": "eef0cfcd-7d70-42f5-abd5-96102a888756"
      },
      "execution_count": 28,
      "outputs": [
        {
          "output_type": "stream",
          "name": "stdout",
          "text": [
            "{'name': 'Ankush', 'short_name': 'ank', 'address': 'shivoor'}\n",
            "{'name': 'Ankush', 'short_name': 'ank', 'address': 'shivoor'}\n",
            "{'name': 'Ankush', 'short_name': 'ank', 'address': 'shivoor', 'grade': 'A+'}\n"
          ]
        }
      ]
    },
    {
      "cell_type": "code",
      "source": [
        "#iterating over dict\n",
        "#use loops to iterate keys,val,items\n",
        "\n",
        "#over keys\n",
        "for key in student.keys():\n",
        "  print(key)\n"
      ],
      "metadata": {
        "colab": {
          "base_uri": "https://localhost:8080/"
        },
        "id": "c1NGXrsmtDxU",
        "outputId": "5ea54dc1-9578-430b-d928-30b7a71386a4"
      },
      "execution_count": 29,
      "outputs": [
        {
          "output_type": "stream",
          "name": "stdout",
          "text": [
            "name\n",
            "short_name\n",
            "address\n",
            "grade\n"
          ]
        }
      ]
    },
    {
      "cell_type": "code",
      "source": [
        "#over val\n",
        "for val in student.values():\n",
        "  print(val)"
      ],
      "metadata": {
        "colab": {
          "base_uri": "https://localhost:8080/"
        },
        "id": "5fEAN7dJtY0N",
        "outputId": "6e162a94-e102-4cee-f36f-97c12a1146a0"
      },
      "execution_count": 31,
      "outputs": [
        {
          "output_type": "stream",
          "name": "stdout",
          "text": [
            "Ankush\n",
            "ank\n",
            "shivoor\n",
            "A+\n"
          ]
        }
      ]
    },
    {
      "cell_type": "code",
      "source": [
        "#iterate over key val pair\n",
        "for key, val in student.items():\n",
        "  print(f\"{key} : {val}\")"
      ],
      "metadata": {
        "colab": {
          "base_uri": "https://localhost:8080/"
        },
        "id": "sWbPhLKktcyx",
        "outputId": "aac6048d-2fb2-41e4-912e-c5315723970a"
      },
      "execution_count": 35,
      "outputs": [
        {
          "output_type": "stream",
          "name": "stdout",
          "text": [
            "name : Ankush\n",
            "short_name : ank\n",
            "address : shivoor\n",
            "grade : A+\n"
          ]
        }
      ]
    },
    {
      "cell_type": "code",
      "source": [
        "#nested dict\n",
        "students={\n",
        "    \"student1\":{\"name\":\"ank\",\"age\":32},\n",
        "    \"student2\":{\"name\":\"ankush\",\"age\":21},\n",
        "}\n",
        "print(students)"
      ],
      "metadata": {
        "colab": {
          "base_uri": "https://localhost:8080/"
        },
        "id": "PFZWpI4FtlAQ",
        "outputId": "1a9b4afe-523c-4563-957e-e68b7450fdfe"
      },
      "execution_count": 37,
      "outputs": [
        {
          "output_type": "stream",
          "name": "stdout",
          "text": [
            "{'student1': {'name': 'ank', 'age': 32}, 'student2': {'name': 'ankush', 'age': 21}}\n"
          ]
        }
      ]
    },
    {
      "cell_type": "code",
      "source": [
        "## Access nested dict\n",
        "print(students[\"student1\"][\"name\"])"
      ],
      "metadata": {
        "colab": {
          "base_uri": "https://localhost:8080/"
        },
        "id": "qOw8VXJAuGTF",
        "outputId": "6dbe7502-2127-4fee-f367-ba9042731aaa"
      },
      "execution_count": 38,
      "outputs": [
        {
          "output_type": "stream",
          "name": "stdout",
          "text": [
            "ank\n"
          ]
        }
      ]
    },
    {
      "cell_type": "code",
      "source": [
        "print(students[\"student2\"][\"age\"])"
      ],
      "metadata": {
        "colab": {
          "base_uri": "https://localhost:8080/"
        },
        "id": "uFXYRM9ouY9B",
        "outputId": "06a8b64d-9636-4520-9c64-1dea91911025"
      },
      "execution_count": 39,
      "outputs": [
        {
          "output_type": "stream",
          "name": "stdout",
          "text": [
            "21\n"
          ]
        }
      ]
    },
    {
      "cell_type": "code",
      "source": [
        "#iteration of nested dict\n",
        "for student_id,student_info in students.items():\n",
        "  print(f\"{student_id}: {student_info}\")\n",
        "  for key, val in student_info.items():\n",
        "    print(f\"{key}: {val}\")"
      ],
      "metadata": {
        "colab": {
          "base_uri": "https://localhost:8080/"
        },
        "id": "Ig8xAFw-ubYs",
        "outputId": "602794da-22a6-42f4-dfa3-2c21fa80949a"
      },
      "execution_count": 43,
      "outputs": [
        {
          "output_type": "stream",
          "name": "stdout",
          "text": [
            "student1: {'name': 'ank', 'age': 32}\n",
            "name: ank\n",
            "age: 32\n",
            "student2: {'name': 'ankush', 'age': 21}\n",
            "name: ankush\n",
            "age: 21\n"
          ]
        }
      ]
    },
    {
      "cell_type": "code",
      "source": [
        "#dict comprehension\n",
        "squares={x:x**2 for x in range(5)}\n",
        "print(squares)"
      ],
      "metadata": {
        "colab": {
          "base_uri": "https://localhost:8080/"
        },
        "id": "GfbOrb79ummQ",
        "outputId": "07d797d7-2f5d-480d-a7f3-e8d4fd48bfd6"
      },
      "execution_count": 45,
      "outputs": [
        {
          "output_type": "stream",
          "name": "stdout",
          "text": [
            "{0: 0, 1: 1, 2: 4, 3: 9, 4: 16}\n"
          ]
        }
      ]
    },
    {
      "cell_type": "code",
      "source": [
        "##conditional dict comprehension\n",
        "even={x: x**2 for x in range(10) if x%2==0}\n",
        "print(even)"
      ],
      "metadata": {
        "colab": {
          "base_uri": "https://localhost:8080/"
        },
        "id": "HPj_F_vSvOjp",
        "outputId": "f8ea4ef2-2ae0-490c-8f9e-5a615ae8acc5"
      },
      "execution_count": 47,
      "outputs": [
        {
          "output_type": "stream",
          "name": "stdout",
          "text": [
            "{0: 0, 2: 4, 4: 16, 6: 36, 8: 64}\n"
          ]
        }
      ]
    },
    {
      "cell_type": "code",
      "source": [
        "#use a dict to count ffreq of element in list\n",
        "num=[1,2,3,4,5,6,7,8,9,1,13,3,4,6,34,324,67,2]\n",
        "frq={}\n",
        "for n in num:\n",
        "  if n in frq:\n",
        "    frq[n]+=1\n",
        "  else:\n",
        "    frq[n]=1\n",
        "print(frq)"
      ],
      "metadata": {
        "colab": {
          "base_uri": "https://localhost:8080/"
        },
        "id": "lwIaKk_GvaV2",
        "outputId": "fdbe747f-004b-4f20-fc51-392bf7d1e55f"
      },
      "execution_count": 48,
      "outputs": [
        {
          "output_type": "stream",
          "name": "stdout",
          "text": [
            "{1: 2, 2: 2, 3: 2, 4: 2, 5: 1, 6: 2, 7: 1, 8: 1, 9: 1, 13: 1, 34: 1, 324: 1, 67: 1}\n"
          ]
        }
      ]
    },
    {
      "cell_type": "markdown",
      "source": [
        "- merged_dict = {**dict1, **dict2}: This line is where the magic happens.\n",
        "- The ** operator is used to unpack the contents of both dict1 and dict2.\n",
        "- By placing them inside curly braces {}, a new dictionary merged_dict is created, containing all the key-value pairs from both original dictionaries."
      ],
      "metadata": {
        "id": "2tsmQsuHwXTY"
      }
    },
    {
      "cell_type": "code",
      "source": [
        "#merge two dict in one\n",
        "dict1={\"a\":1,\"b\":2}\n",
        "dict2={\"d\":3,\"c\":4}\n",
        "merged_dict={**dict1,**dict2}\n",
        "print(merged_dict)"
      ],
      "metadata": {
        "colab": {
          "base_uri": "https://localhost:8080/"
        },
        "id": "9DwzIUWkv19V",
        "outputId": "cb32ef61-d2d0-4908-8304-e29207e0e72c"
      },
      "execution_count": 49,
      "outputs": [
        {
          "output_type": "stream",
          "name": "stdout",
          "text": [
            "{'a': 1, 'b': 2, 'd': 3, 'c': 4}\n"
          ]
        }
      ]
    },
    {
      "cell_type": "code",
      "source": [],
      "metadata": {
        "id": "0VUgtNqewON9"
      },
      "execution_count": null,
      "outputs": []
    }
  ]
}