{
  "nbformat": 4,
  "nbformat_minor": 0,
  "metadata": {
    "colab": {
      "provenance": [],
      "authorship_tag": "ABX9TyPYT1O/WHs0tAf9v8qBrqc5",
      "include_colab_link": true
    },
    "kernelspec": {
      "name": "python3",
      "display_name": "Python 3"
    },
    "language_info": {
      "name": "python"
    }
  },
  "cells": [
    {
      "cell_type": "markdown",
      "metadata": {
        "id": "view-in-github",
        "colab_type": "text"
      },
      "source": [
        "<a href=\"https://colab.research.google.com/github/Ankush1oo8/Data_Analyst/blob/main/Basic_Python/exceptionHandling.ipynb\" target=\"_parent\"><img src=\"https://colab.research.google.com/assets/colab-badge.svg\" alt=\"Open In Colab\"/></a>"
      ]
    },
    {
      "cell_type": "code",
      "execution_count": 1,
      "metadata": {
        "colab": {
          "base_uri": "https://localhost:8080/"
        },
        "id": "G6v4pmMtdDpZ",
        "outputId": "3c7a50ef-5436-4b3f-daa0-10030ebf4b51"
      },
      "outputs": [
        {
          "output_type": "stream",
          "name": "stdout",
          "text": [
            "var not defined\n"
          ]
        }
      ],
      "source": [
        "try:\n",
        "  a=b\n",
        "except:\n",
        "  print(\"var not defined\")"
      ]
    },
    {
      "cell_type": "code",
      "source": [
        "try :\n",
        "  a=b\n",
        "except NameError as ex:\n",
        "  print(ex)"
      ],
      "metadata": {
        "colab": {
          "base_uri": "https://localhost:8080/"
        },
        "id": "12iu_cfXduBh",
        "outputId": "6ecee2f4-7fe0-49fe-db41-c21f8222c2bc"
      },
      "execution_count": 2,
      "outputs": [
        {
          "output_type": "stream",
          "name": "stdout",
          "text": [
            "name 'b' is not defined\n"
          ]
        }
      ]
    },
    {
      "cell_type": "code",
      "source": [
        "try:\n",
        "  res=1/0\n",
        "  print(res)\n",
        "except ZeroDivisionError as ze:\n",
        "  print(ze, \"\\nnot allowed\")"
      ],
      "metadata": {
        "colab": {
          "base_uri": "https://localhost:8080/"
        },
        "id": "qV-KjBcLd6JZ",
        "outputId": "41890e40-5f4c-44d7-ec2e-a5cda956249f"
      },
      "execution_count": 4,
      "outputs": [
        {
          "output_type": "stream",
          "name": "stdout",
          "text": [
            "division by zero \n",
            "not allowed\n"
          ]
        }
      ]
    },
    {
      "cell_type": "code",
      "source": [
        "try:\n",
        "  num=int(input(\"Enter a number: \"))\n",
        "  res=10/num\n",
        "  print(res)\n",
        "except ValueError:\n",
        "  print(\"Enter a valid Number\")\n",
        "except ZeroDivisionError:\n",
        "  print(\"Enter a number other than zero\")\n"
      ],
      "metadata": {
        "colab": {
          "base_uri": "https://localhost:8080/"
        },
        "id": "YK-KNsC2eE2c",
        "outputId": "3d44a94a-85b4-422c-e65c-071703089de8"
      },
      "execution_count": 5,
      "outputs": [
        {
          "output_type": "stream",
          "name": "stdout",
          "text": [
            "Enter a number: 0\n",
            "Enter a number other than zero\n"
          ]
        }
      ]
    },
    {
      "cell_type": "code",
      "source": [
        "try:\n",
        "  num=int(input(\"Enter a number: \"))\n",
        "  res=10/num\n",
        "  print(res)\n",
        "except ValueError:\n",
        "  print(\"Enter a valid Number\")\n",
        "except ZeroDivisionError:\n",
        "  print(\"Enter a number other than zero\")"
      ],
      "metadata": {
        "colab": {
          "base_uri": "https://localhost:8080/"
        },
        "id": "qHQ2W0MvfJEZ",
        "outputId": "89af1313-ff9a-42a4-8551-240e7d8ef2fd"
      },
      "execution_count": 6,
      "outputs": [
        {
          "output_type": "stream",
          "name": "stdout",
          "text": [
            "Enter a number: d\n",
            "Enter a valid Number\n"
          ]
        }
      ]
    },
    {
      "cell_type": "code",
      "source": [
        "try:\n",
        "  num=int(input(\"Enter a number: \"))\n",
        "  res=10/num\n",
        "  print(res)\n",
        "except ValueError:\n",
        "  print(\"Enter a valid Number\")\n",
        "except ZeroDivisionError:\n",
        "  print(\"Enter a number other than zero\")"
      ],
      "metadata": {
        "colab": {
          "base_uri": "https://localhost:8080/"
        },
        "id": "wRNHQ6ctfLlg",
        "outputId": "b8b43229-2af8-4eb4-c13b-a7a6e61d7855"
      },
      "execution_count": 7,
      "outputs": [
        {
          "output_type": "stream",
          "name": "stdout",
          "text": [
            "Enter a number: 10\n",
            "1.0\n"
          ]
        }
      ]
    },
    {
      "cell_type": "code",
      "source": [
        "try:\n",
        "  num=int(input(\"Enter a number: \"))\n",
        "  res=10/num\n",
        "except ValueError:\n",
        "  print(\"Enter a valid Number\")\n",
        "except ZeroDivisionError:\n",
        "  print(\"Enter a number other than zero\")\n",
        "else:\n",
        "    print(res)"
      ],
      "metadata": {
        "colab": {
          "base_uri": "https://localhost:8080/"
        },
        "id": "oWyastkcfNy1",
        "outputId": "c13ceb3c-9d6e-4fbe-fe95-7e779c321fc6"
      },
      "execution_count": 8,
      "outputs": [
        {
          "output_type": "stream",
          "name": "stdout",
          "text": [
            "Enter a number: 5\n",
            "2.0\n"
          ]
        }
      ]
    },
    {
      "cell_type": "code",
      "source": [
        "try:\n",
        "  num=int(input(\"Enter a number: \"))\n",
        "  res=10/num\n",
        "except ValueError:\n",
        "  print(\"Enter a valid Number\")\n",
        "except ZeroDivisionError:\n",
        "  print(\"Enter a number other than zero\")\n",
        "else:\n",
        "    print(res)\n",
        "finally:\n",
        "  print(\"can be shown if error occured or not occured\")"
      ],
      "metadata": {
        "colab": {
          "base_uri": "https://localhost:8080/"
        },
        "id": "JjTKtm25fmz0",
        "outputId": "be872da0-94fd-4331-82c3-4234e903de04"
      },
      "execution_count": 9,
      "outputs": [
        {
          "output_type": "stream",
          "name": "stdout",
          "text": [
            "Enter a number: 0\n",
            "Enter a number other than zero\n",
            "can be shown if error occured or not occured\n"
          ]
        }
      ]
    },
    {
      "cell_type": "code",
      "source": [
        "## file handing and exception handling\n",
        "\n",
        "try:\n",
        "  file=open('example.txt','r')\n",
        "  content=file.read()\n",
        "except FileNotFoundError:\n",
        "  print(\"file not found\")\n",
        "else:\n",
        "  print(content)\n",
        "finally:\n",
        "  if 'file' in locals() and not file.closed():\n",
        "    file.close()\n",
        "    print(\"file closed\")"
      ],
      "metadata": {
        "colab": {
          "base_uri": "https://localhost:8080/"
        },
        "id": "5JYDOHkSgI5p",
        "outputId": "60616852-4506-4d2d-e30c-95a2071d4a98"
      },
      "execution_count": 13,
      "outputs": [
        {
          "output_type": "stream",
          "name": "stdout",
          "text": [
            "file not found\n"
          ]
        }
      ]
    },
    {
      "cell_type": "code",
      "source": [],
      "metadata": {
        "id": "mOOd-99Rgz3L"
      },
      "execution_count": null,
      "outputs": []
    }
  ]
}