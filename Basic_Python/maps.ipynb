{
  "nbformat": 4,
  "nbformat_minor": 0,
  "metadata": {
    "colab": {
      "provenance": [],
      "authorship_tag": "ABX9TyMOkV7zObsqbgA+F3zEQ1Us",
      "include_colab_link": true
    },
    "kernelspec": {
      "name": "python3",
      "display_name": "Python 3"
    },
    "language_info": {
      "name": "python"
    }
  },
  "cells": [
    {
      "cell_type": "markdown",
      "metadata": {
        "id": "view-in-github",
        "colab_type": "text"
      },
      "source": [
        "<a href=\"https://colab.research.google.com/github/Ankush1oo8/Data_Analyst/blob/main/Basic_Python/maps.ipynb\" target=\"_parent\"><img src=\"https://colab.research.google.com/assets/colab-badge.svg\" alt=\"Open In Colab\"/></a>"
      ]
    },
    {
      "cell_type": "markdown",
      "source": [
        "What is the map Function?\n",
        "\n",
        "The map function is a built-in Python function that applies a given function to each item of an iterable (like a list, tuple, etc.) and returns an iterator of the results.\n",
        "\n",
        "Syntax\n",
        "```\n",
        "map(function, iterable, ...)\n",
        "```\n",
        "function: The function to apply to each item.\n",
        "iterable: The iterable containing the items to process.\n",
        "\n",
        "...: Optional, additional iterables if the function takes multiple arguments.\n",
        "\n",
        "How it Works\n",
        "\n",
        "The map function takes a function and one or more iterables as arguments.\n",
        "It iterates through each item of the iterable(s).\n",
        "For each item, it applies the given function.\n",
        "It returns an iterator that yields the results of applying the function to each item.\n"
      ],
      "metadata": {
        "id": "Wa7C5Yka0EUx"
      }
    },
    {
      "cell_type": "code",
      "execution_count": 1,
      "metadata": {
        "colab": {
          "base_uri": "https://localhost:8080/"
        },
        "id": "APW8OchUzvNT",
        "outputId": "bf828f11-7177-4a21-e838-7d70c45f9b72"
      },
      "outputs": [
        {
          "output_type": "execute_result",
          "data": {
            "text/plain": [
              "144"
            ]
          },
          "metadata": {},
          "execution_count": 1
        }
      ],
      "source": [
        "def square(x):\n",
        "  return x*x\n",
        "\n",
        "square(12)"
      ]
    },
    {
      "cell_type": "code",
      "source": [
        "numbers=[1,2,3,4,5,6,76,8]\n",
        "squared_num=map(square,numbers)\n",
        "print(list(squared_num))"
      ],
      "metadata": {
        "colab": {
          "base_uri": "https://localhost:8080/"
        },
        "id": "9Qrl-SsV0WQk",
        "outputId": "d2b17e93-0126-4a6c-d1ca-156c87f83665"
      },
      "execution_count": 2,
      "outputs": [
        {
          "output_type": "stream",
          "name": "stdout",
          "text": [
            "[1, 4, 9, 16, 25, 36, 5776, 64]\n"
          ]
        }
      ]
    },
    {
      "cell_type": "code",
      "source": [
        "## MAP multiple iterables\n",
        "num1=[1,2,3]\n",
        "num2=[4,5,6]\n",
        "\n",
        "added_num=list(map(lambda x,y:x+y,num1,num2))\n",
        "print(added_num)"
      ],
      "metadata": {
        "colab": {
          "base_uri": "https://localhost:8080/"
        },
        "id": "Q9DCn8SY0iXq",
        "outputId": "d0b32f3b-f639-4c94-bb47-0f2013b1dec0"
      },
      "execution_count": 6,
      "outputs": [
        {
          "output_type": "stream",
          "name": "stdout",
          "text": [
            "[5, 7, 9]\n"
          ]
        }
      ]
    },
    {
      "cell_type": "code",
      "source": [
        "letter1=['1','2','3']\n",
        "int_number=list(map(int,letter1))\n",
        "print(int_number)"
      ],
      "metadata": {
        "colab": {
          "base_uri": "https://localhost:8080/"
        },
        "id": "rPDWvGS12Fnj",
        "outputId": "24eca4d2-6927-47d8-a86f-e3a064d50322"
      },
      "execution_count": 7,
      "outputs": [
        {
          "output_type": "stream",
          "name": "stdout",
          "text": [
            "[1, 2, 3]\n"
          ]
        }
      ]
    },
    {
      "cell_type": "code",
      "source": [
        "words=['apple','banana','cherry','watermelon']\n",
        "upper_words=list(map(str.upper,words))\n",
        "print(upper_words)"
      ],
      "metadata": {
        "colab": {
          "base_uri": "https://localhost:8080/"
        },
        "id": "-OxSQhOV2agQ",
        "outputId": "beed2721-340e-47e5-8282-8b6c7cfeb450"
      },
      "execution_count": 8,
      "outputs": [
        {
          "output_type": "stream",
          "name": "stdout",
          "text": [
            "['APPLE', 'BANANA', 'CHERRY', 'WATERMELON']\n"
          ]
        }
      ]
    },
    {
      "cell_type": "code",
      "source": [],
      "metadata": {
        "id": "M99BoYy72nl-"
      },
      "execution_count": null,
      "outputs": []
    }
  ]
}