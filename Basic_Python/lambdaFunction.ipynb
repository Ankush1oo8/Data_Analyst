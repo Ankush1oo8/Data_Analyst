{
  "nbformat": 4,
  "nbformat_minor": 0,
  "metadata": {
    "colab": {
      "provenance": [],
      "authorship_tag": "ABX9TyOagilWi7QF++WBUE2MsP92",
      "include_colab_link": true
    },
    "kernelspec": {
      "name": "python3",
      "display_name": "Python 3"
    },
    "language_info": {
      "name": "python"
    }
  },
  "cells": [
    {
      "cell_type": "markdown",
      "metadata": {
        "id": "view-in-github",
        "colab_type": "text"
      },
      "source": [
        "<a href=\"https://colab.research.google.com/github/Ankush1oo8/Data_Analyst/blob/main/Basic_Python/lambdaFunction.ipynb\" target=\"_parent\"><img src=\"https://colab.research.google.com/assets/colab-badge.svg\" alt=\"Open In Colab\"/></a>"
      ]
    },
    {
      "cell_type": "markdown",
      "source": [
        "What is a Lambda Function?\n",
        "\n",
        "A lambda function is a small, anonymous function defined using the lambda keyword. It can have any number of arguments but can only have one expression. They're often used for short, simple operations where defining a full function using def would be overkill"
      ],
      "metadata": {
        "id": "dhDV6ZE3PXlm"
      }
    },
    {
      "cell_type": "code",
      "execution_count": 1,
      "metadata": {
        "colab": {
          "base_uri": "https://localhost:8080/"
        },
        "id": "tZp-nfGMPNf1",
        "outputId": "18c98890-9b13-4cbf-9038-f96fa2e481ae"
      },
      "outputs": [
        {
          "output_type": "stream",
          "name": "stdout",
          "text": [
            "61\n"
          ]
        }
      ],
      "source": [
        "addition=lambda a,b:a+b\n",
        "print(addition(5,56))"
      ]
    },
    {
      "cell_type": "code",
      "source": [
        "even_or_odd=lambda num:num%2==0\n",
        "even_or_odd(12)"
      ],
      "metadata": {
        "colab": {
          "base_uri": "https://localhost:8080/"
        },
        "id": "N-wcsNXlPha_",
        "outputId": "56cd06a0-2105-4956-f007-b3429b77dc7f"
      },
      "execution_count": 3,
      "outputs": [
        {
          "output_type": "execute_result",
          "data": {
            "text/plain": [
              "True"
            ]
          },
          "metadata": {},
          "execution_count": 3
        }
      ]
    },
    {
      "cell_type": "code",
      "source": [
        "#map function\n",
        "number=[1,2,3,4,5,6,7,8,9]\n",
        "list(map(lambda x:x**2,number))"
      ],
      "metadata": {
        "colab": {
          "base_uri": "https://localhost:8080/"
        },
        "id": "TGzgDF04PrtZ",
        "outputId": "a3d69300-2568-42a0-c3fe-8b27628d055d"
      },
      "execution_count": 6,
      "outputs": [
        {
          "output_type": "execute_result",
          "data": {
            "text/plain": [
              "[1, 4, 9, 16, 25, 36, 49, 64, 81]"
            ]
          },
          "metadata": {},
          "execution_count": 6
        }
      ]
    },
    {
      "cell_type": "code",
      "source": [],
      "metadata": {
        "id": "eAhlM5SoQLrz"
      },
      "execution_count": null,
      "outputs": []
    }
  ]
}