{
  "nbformat": 4,
  "nbformat_minor": 0,
  "metadata": {
    "colab": {
      "provenance": [],
      "authorship_tag": "ABX9TyMeLy9wETbYi2Llo+F5QbsN",
      "include_colab_link": true
    },
    "kernelspec": {
      "name": "python3",
      "display_name": "Python 3"
    },
    "language_info": {
      "name": "python"
    }
  },
  "cells": [
    {
      "cell_type": "markdown",
      "metadata": {
        "id": "view-in-github",
        "colab_type": "text"
      },
      "source": [
        "<a href=\"https://colab.research.google.com/github/Ankush1oo8/Data_Analyst/blob/main/Basic_Python/standardLibraryOverview.ipynb\" target=\"_parent\"><img src=\"https://colab.research.google.com/assets/colab-badge.svg\" alt=\"Open In Colab\"/></a>"
      ]
    },
    {
      "cell_type": "code",
      "execution_count": 1,
      "metadata": {
        "colab": {
          "base_uri": "https://localhost:8080/"
        },
        "id": "lmDlV7bo4gvt",
        "outputId": "9248df32-868b-4363-9451-0c2687bb875a"
      },
      "outputs": [
        {
          "output_type": "stream",
          "name": "stdout",
          "text": [
            "array('i', [1, 2, 3, 4, 5])\n"
          ]
        }
      ],
      "source": [
        "import array\n",
        "arr=array.array('i',[1,2,3,4,5])\n",
        "print(arr)"
      ]
    },
    {
      "cell_type": "code",
      "source": [
        "import math\n",
        "print(math.sqrt(4))\n",
        "print(math.pi)"
      ],
      "metadata": {
        "colab": {
          "base_uri": "https://localhost:8080/"
        },
        "id": "Lf333S-I4zlo",
        "outputId": "a266a531-39c2-4bca-c2e3-9933d42651f9"
      },
      "execution_count": 3,
      "outputs": [
        {
          "output_type": "stream",
          "name": "stdout",
          "text": [
            "2.0\n",
            "3.141592653589793\n"
          ]
        }
      ]
    },
    {
      "cell_type": "code",
      "source": [
        "import random as rd\n",
        "print(rd.randint(1,100))\n",
        "print(rd.choice(['apple','banana','cherry']))"
      ],
      "metadata": {
        "colab": {
          "base_uri": "https://localhost:8080/"
        },
        "id": "BIIqorFQ442n",
        "outputId": "0b251cf9-c402-4c1b-b002-0a064b65d4f4"
      },
      "execution_count": 4,
      "outputs": [
        {
          "output_type": "stream",
          "name": "stdout",
          "text": [
            "68\n",
            "cherry\n"
          ]
        }
      ]
    },
    {
      "cell_type": "code",
      "source": [
        "##file and directory access\n",
        "import os\n",
        "print(os.getcwd())"
      ],
      "metadata": {
        "colab": {
          "base_uri": "https://localhost:8080/"
        },
        "id": "7Usx6PaH5IE7",
        "outputId": "c1cd0e05-cc86-411e-a475-410baebc9f85"
      },
      "execution_count": 5,
      "outputs": [
        {
          "output_type": "stream",
          "name": "stdout",
          "text": [
            "/content\n"
          ]
        }
      ]
    },
    {
      "cell_type": "code",
      "source": [
        "## to make directory\n",
        "os.mkdir('test')"
      ],
      "metadata": {
        "id": "-8vyF3135QCc"
      },
      "execution_count": 6,
      "outputs": []
    },
    {
      "cell_type": "code",
      "source": [
        "os.makedirs('test', exist_ok=True) # Use os.makedirs to handle existing directories\n",
        "\n",
        "#change the directory\n",
        "os.chdir('test')\n",
        "print(os.getcwd())\n",
        "\n",
        "\n",
        "with open('test.txt', 'w') as f:\n",
        "  f.write('test')\n",
        "\n"
      ],
      "metadata": {
        "colab": {
          "base_uri": "https://localhost:8080/"
        },
        "id": "XHM14v1L5kSE",
        "outputId": "047558f8-facd-4dff-ecb6-fbab061b1617"
      },
      "execution_count": 8,
      "outputs": [
        {
          "output_type": "stream",
          "name": "stdout",
          "text": [
            "/content/test/test\n"
          ]
        }
      ]
    },
    {
      "cell_type": "code",
      "source": [
        "from posix import getcwd\n",
        "## high level operation on fies and collection of files\n",
        "print(getcwd())"
      ],
      "metadata": {
        "colab": {
          "base_uri": "https://localhost:8080/"
        },
        "id": "68d8ArYi57T3",
        "outputId": "594ceb72-16ed-449a-f790-97b18bbd791b"
      },
      "execution_count": 13,
      "outputs": [
        {
          "output_type": "stream",
          "name": "stdout",
          "text": [
            "/content\n"
          ]
        }
      ]
    },
    {
      "cell_type": "code",
      "source": [
        "os.chdir('..')"
      ],
      "metadata": {
        "id": "4UkZpQUL60hG"
      },
      "execution_count": 12,
      "outputs": []
    },
    {
      "cell_type": "code",
      "source": [
        "import shutil\n",
        "shutil.copyfile('./test/test.txt', './test/test_copy.txt')"
      ],
      "metadata": {
        "colab": {
          "base_uri": "https://localhost:8080/",
          "height": 35
        },
        "id": "pEoaMa0h66AA",
        "outputId": "9ef5c9b1-1f29-43c3-c085-285294cca15e"
      },
      "execution_count": 14,
      "outputs": [
        {
          "output_type": "execute_result",
          "data": {
            "text/plain": [
              "'./test/test_copy.txt'"
            ],
            "application/vnd.google.colaboratory.intrinsic+json": {
              "type": "string"
            }
          },
          "metadata": {},
          "execution_count": 14
        }
      ]
    },
    {
      "cell_type": "code",
      "source": [
        "#dtatime\n",
        "from datetime import datetime,timedelta\n",
        "\n",
        "now=datetime.now()\n",
        "print(now)"
      ],
      "metadata": {
        "colab": {
          "base_uri": "https://localhost:8080/"
        },
        "id": "PEwRc2vL7jMe",
        "outputId": "7f41fbae-f62e-4562-8fbc-9ec8597c6ade"
      },
      "execution_count": 1,
      "outputs": [
        {
          "output_type": "stream",
          "name": "stdout",
          "text": [
            "2025-04-30 19:39:16.405625\n"
          ]
        }
      ]
    },
    {
      "cell_type": "code",
      "source": [
        "yesterday=now-timedelta(days=1)\n",
        "print(yesterday)"
      ],
      "metadata": {
        "colab": {
          "base_uri": "https://localhost:8080/"
        },
        "id": "2RZKUJQlNauP",
        "outputId": "3e44f5ac-3ec5-49f9-8229-6551b70afd30"
      },
      "execution_count": 2,
      "outputs": [
        {
          "output_type": "stream",
          "name": "stdout",
          "text": [
            "2025-04-29 19:39:16.405625\n"
          ]
        }
      ]
    },
    {
      "cell_type": "code",
      "source": [
        "##time\n",
        "import time\n",
        "print(time.time())"
      ],
      "metadata": {
        "colab": {
          "base_uri": "https://localhost:8080/"
        },
        "id": "UiQndLq9NkIc",
        "outputId": "6b22804c-4204-478a-98eb-f87db18d64f9"
      },
      "execution_count": 3,
      "outputs": [
        {
          "output_type": "stream",
          "name": "stdout",
          "text": [
            "1746042067.7507083\n"
          ]
        }
      ]
    },
    {
      "cell_type": "code",
      "source": [
        "time.sleep(2)\n",
        "print(time.time())"
      ],
      "metadata": {
        "colab": {
          "base_uri": "https://localhost:8080/"
        },
        "id": "OH_sT5m7N5jj",
        "outputId": "faa0edd8-5f43-437d-d959-492910099900"
      },
      "execution_count": 4,
      "outputs": [
        {
          "output_type": "stream",
          "name": "stdout",
          "text": [
            "1746042086.8453217\n"
          ]
        }
      ]
    },
    {
      "cell_type": "code",
      "source": [
        "##regular expression\n",
        "import re\n",
        "pattern=r'\\d+'\n",
        "text='there are 50 apples'\n",
        "match=re.search(pattern,text)\n",
        "print(match.group())"
      ],
      "metadata": {
        "colab": {
          "base_uri": "https://localhost:8080/"
        },
        "id": "ZcCKyEQ3N9uF",
        "outputId": "564e51fe-a63e-4dd4-a119-bcd49ed8c15d"
      },
      "execution_count": 5,
      "outputs": [
        {
          "output_type": "stream",
          "name": "stdout",
          "text": [
            "50\n"
          ]
        }
      ]
    },
    {
      "cell_type": "code",
      "source": [],
      "metadata": {
        "id": "kQnGuYKhOS_E"
      },
      "execution_count": null,
      "outputs": []
    }
  ]
}