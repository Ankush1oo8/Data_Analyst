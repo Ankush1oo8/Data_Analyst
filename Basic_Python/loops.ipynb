{
  "nbformat": 4,
  "nbformat_minor": 0,
  "metadata": {
    "colab": {
      "provenance": [],
      "authorship_tag": "ABX9TyNloD5il6ndwa0pxvilYZF8",
      "include_colab_link": true
    },
    "kernelspec": {
      "name": "python3",
      "display_name": "Python 3"
    },
    "language_info": {
      "name": "python"
    }
  },
  "cells": [
    {
      "cell_type": "markdown",
      "metadata": {
        "id": "view-in-github",
        "colab_type": "text"
      },
      "source": [
        "<a href=\"https://colab.research.google.com/github/Ankush1oo8/Data_Analyst/blob/main/Basic_Python/loops.ipynb\" target=\"_parent\"><img src=\"https://colab.research.google.com/assets/colab-badge.svg\" alt=\"Open In Colab\"/></a>"
      ]
    },
    {
      "cell_type": "markdown",
      "source": [
        "Loops in Python\n",
        "Loops are used to execute a block of code repeatedly. Python has two main loop types:\n",
        "\n",
        "1. for loop\n",
        "The for loop iterates over a sequence (like a list, tuple, string, or range) and executes a block of code for each item in the sequence.\n",
        "\n",
        "# Example: Print each item in a list\n",
        "fruits = [\"apple\", \"banana\", \"cherry\"]\n",
        "for fruit in fruits:\n",
        "  print(fruit)\n",
        "Use code with caution\n",
        "Explanation:\n",
        "\n",
        "fruits = [\"apple\", \"banana\", \"cherry\"]: Creates a list named fruits.\n",
        "for fruit in fruits:: Starts the loop, assigning each item in fruits to the variable fruit in each iteration.\n",
        "print(fruit): Prints the current value of fruit.\n",
        "2. while loop\n",
        "The while loop executes a block of code as long as a condition is true.\n",
        "\n",
        "# Example: Print numbers from 1 to 5\n",
        "count = 1\n",
        "while count <= 5:\n",
        "  print(count)\n",
        "  count += 1\n",
        "Use code with caution\n",
        "Explanation:\n",
        "\n",
        "count = 1: Initializes a counter variable.\n",
        "while count <= 5:: Continues the loop as long as count is less than or equal to 5.\n",
        "print(count): Prints the current value of count.\n",
        "count += 1: Increments count by 1 in each iteration.\n",
        "else in Loops\n",
        "In Python, loops can have an optional else block. The else block is executed after the loop completes normally (without encountering a break statement).\n",
        "\n",
        "# prints out 0,1,2,3,4 and then it prints \"done\"\n",
        "for x in range(5):\n",
        "  print(x)\n",
        "else:\n",
        "  print(\"done\")\n",
        "Use code with caution\n",
        "Explanation\n",
        "\n",
        "for loop iterates over the range(5), means that x iterates over 0,1,2,3,4, each time one value\n",
        "It will print the value of x\n",
        "If loop is finished without break, then else code will be executed.\n",
        "Additional Loop Control Statements\n",
        "break: Exits the loop prematurely.\n",
        "continue: Skips the current iteration and proceeds to the next."
      ],
      "metadata": {
        "id": "lfv2NfrIc0ib"
      }
    },
    {
      "cell_type": "code",
      "source": [
        "range(5)"
      ],
      "metadata": {
        "colab": {
          "base_uri": "https://localhost:8080/"
        },
        "id": "IXzNmJ2ac1ez",
        "outputId": "55bf3c6a-076c-4789-86a1-4779c206773b"
      },
      "execution_count": null,
      "outputs": [
        {
          "output_type": "execute_result",
          "data": {
            "text/plain": [
              "range(0, 5)"
            ]
          },
          "metadata": {},
          "execution_count": 1
        }
      ]
    },
    {
      "cell_type": "code",
      "source": [
        "for i in range(5):\n",
        "  print(i)"
      ],
      "metadata": {
        "colab": {
          "base_uri": "https://localhost:8080/"
        },
        "id": "-kf69hLBc2zT",
        "outputId": "35c53c5f-5709-48b6-b203-7a8222e673d5"
      },
      "execution_count": null,
      "outputs": [
        {
          "output_type": "stream",
          "name": "stdout",
          "text": [
            "0\n",
            "1\n",
            "2\n",
            "3\n",
            "4\n"
          ]
        }
      ]
    },
    {
      "cell_type": "code",
      "source": [
        "range(1,10,2)"
      ],
      "metadata": {
        "colab": {
          "base_uri": "https://localhost:8080/"
        },
        "id": "NKBUTa93c_Ov",
        "outputId": "9f71cb2d-7219-4016-a17f-08636441797b"
      },
      "execution_count": null,
      "outputs": [
        {
          "output_type": "execute_result",
          "data": {
            "text/plain": [
              "range(1, 10, 2)"
            ]
          },
          "metadata": {},
          "execution_count": 3
        }
      ]
    },
    {
      "cell_type": "markdown",
      "source": [
        "This code uses a for loop to iterate through a sequence of numbers and print each number.\n",
        "```\n",
        "for i in range(1,10,2):\n",
        "  print(i)\n",
        "```\n",
        "Use code with caution\n",
        "for keyword: This keyword indicates the start of a for loop.\n",
        "\n",
        "i variable: This variable acts as a placeholder. It will take on the value of each item in the sequence as the loop iterates.\n",
        "\n",
        "range(1,10,2) function: This function generates a sequence of numbers.\n",
        "\n",
        "It starts at 1 (1 is the first argument).\n",
        "It stops before it reaches 10 (10 is the second argument).\n",
        "\n",
        "It increments by 2 in each step (2 is the third argument). This is also referred to as the step.\n",
        "print(i) function: This function prints the current value of i to the console.\n",
        "\n",
        "How the loop works:\n",
        "The range(1,10,2) function creates the sequence: 1, 3, 5, 7, 9.\n",
        "\n",
        "The loop begins, and i is assigned the first value in the sequence, which is 1.\n",
        "\n",
        "The print(i) function is executed, printing the value of i (which is currently 1) to the console.\n",
        "\n",
        "The loop moves to the next value in the sequence, which is 3.\n",
        "\n",
        "i is now assigned the value 3.\n",
        "The print(i) function is executed again, printing 3 to the console.\n",
        "\n",
        "This process continues for each value in the sequence (5, 7, and 9).\n",
        "\n",
        "Once all values in the sequence have been processed, the loop ends.\n",
        "In simpler terms, this code prints all the odd numbers from 1 to 9."
      ],
      "metadata": {
        "id": "svMEP6VfdOR-"
      }
    },
    {
      "cell_type": "code",
      "source": [
        "for i in range(1,10,2):\n",
        "  print(i)"
      ],
      "metadata": {
        "colab": {
          "base_uri": "https://localhost:8080/"
        },
        "id": "Wiz0DVpUdEiJ",
        "outputId": "e2e75aa7-c2de-4a1e-8b5c-65d15b721e44"
      },
      "execution_count": null,
      "outputs": [
        {
          "output_type": "stream",
          "name": "stdout",
          "text": [
            "1\n",
            "3\n",
            "5\n",
            "7\n",
            "9\n"
          ]
        }
      ]
    },
    {
      "cell_type": "code",
      "source": [
        "#while loop\n",
        "count=0\n",
        "while count<5:\n",
        "  print(count)\n",
        "  count=count+1"
      ],
      "metadata": {
        "colab": {
          "base_uri": "https://localhost:8080/"
        },
        "id": "rUK8rKn5dsPS",
        "outputId": "02918629-4285-49c6-a931-daee116d2090"
      },
      "execution_count": null,
      "outputs": [
        {
          "output_type": "stream",
          "name": "stdout",
          "text": [
            "0\n",
            "1\n",
            "2\n",
            "3\n",
            "4\n"
          ]
        }
      ]
    },
    {
      "cell_type": "code",
      "source": [
        "#loop control statement\n",
        "#break\n",
        "## break statement exit the loop prematurely\n",
        "for i in range(5):\n",
        "  if i==3:\n",
        "    break\n",
        "  print(i)"
      ],
      "metadata": {
        "colab": {
          "base_uri": "https://localhost:8080/"
        },
        "id": "bnCPqKlAd5NT",
        "outputId": "e864bc79-ded8-4b9d-9a5f-c025def20a7c"
      },
      "execution_count": null,
      "outputs": [
        {
          "output_type": "stream",
          "name": "stdout",
          "text": [
            "0\n",
            "1\n",
            "2\n"
          ]
        }
      ]
    },
    {
      "cell_type": "code",
      "source": [
        "#pass\n",
        "# it does nothing\n",
        "for i in range(5):\n",
        "  if i==3:\n",
        "    pass\n",
        "  print(i)"
      ],
      "metadata": {
        "colab": {
          "base_uri": "https://localhost:8080/"
        },
        "id": "8D77c0a0eEHk",
        "outputId": "d707cf30-e8d3-4cfb-cd96-640d8ccd77e8"
      },
      "execution_count": null,
      "outputs": [
        {
          "output_type": "stream",
          "name": "stdout",
          "text": [
            "0\n",
            "1\n",
            "2\n",
            "3\n",
            "4\n"
          ]
        }
      ]
    },
    {
      "cell_type": "code",
      "source": [
        "# Nested loops\n",
        "# loop inside loop\n",
        "\n",
        "for i in range(3):\n",
        "  for j in range(2):\n",
        "    print(i,j)"
      ],
      "metadata": {
        "colab": {
          "base_uri": "https://localhost:8080/"
        },
        "id": "x8WTvnove0eJ",
        "outputId": "5860a341-f8b3-4326-c609-742aba65fcca"
      },
      "execution_count": null,
      "outputs": [
        {
          "output_type": "stream",
          "name": "stdout",
          "text": [
            "0 0\n",
            "0 1\n",
            "1 0\n",
            "1 1\n",
            "2 0\n",
            "2 1\n"
          ]
        }
      ]
    },
    {
      "cell_type": "code",
      "source": [
        "# calculate sum of first natural num\n",
        "n=10\n",
        "sum=0\n",
        "while n>0:\n",
        "  sum=sum+n\n",
        "  n=n-1\n",
        "print(sum)"
      ],
      "metadata": {
        "colab": {
          "base_uri": "https://localhost:8080/"
        },
        "id": "zFzJ0Fyve65j",
        "outputId": "2bad7a71-35f6-4297-c04a-0e2fd704f481"
      },
      "execution_count": null,
      "outputs": [
        {
          "output_type": "stream",
          "name": "stdout",
          "text": [
            "55\n"
          ]
        }
      ]
    }
  ]
}