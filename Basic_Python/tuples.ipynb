{
  "nbformat": 4,
  "nbformat_minor": 0,
  "metadata": {
    "colab": {
      "provenance": [],
      "authorship_tag": "ABX9TyOJpphIVDa4cRdot03SQJOl",
      "include_colab_link": true
    },
    "kernelspec": {
      "name": "python3",
      "display_name": "Python 3"
    },
    "language_info": {
      "name": "python"
    }
  },
  "cells": [
    {
      "cell_type": "markdown",
      "metadata": {
        "id": "view-in-github",
        "colab_type": "text"
      },
      "source": [
        "<a href=\"https://colab.research.google.com/github/Ankush1oo8/Data_Analyst/blob/main/Basic_Python/tuples.ipynb\" target=\"_parent\"><img src=\"https://colab.research.google.com/assets/colab-badge.svg\" alt=\"Open In Colab\"/></a>"
      ]
    },
    {
      "cell_type": "markdown",
      "source": [
        "What are tuples?\n",
        "\n",
        "Tuples are ordered, immutable collections of items. \"Ordered\" means the items have a defined sequence, and \"immutable\" means you can't change the tuple's contents after it's created (unlike lists, which are mutable).\n",
        "\n",
        "Creating Tuples\n",
        "\n",
        "Using parentheses:\n",
        "```\n",
        "my_tuple = (1, 2, 'hello', 3.14)\n",
        "Use code with caution\n",
        "Using the tuple() function:\n",
        "my_tuple = tuple([1, 2, 3])\n",
        "```\n",
        "Use code with caution\n",
        "Accessing Tuple Elements\n",
        "\n",
        "You access elements by their index (starting from 0):\n",
        "```\n",
        "first_element = my_tuple[0]\n",
        "   second_element = my_tuple[1]\n",
        "```\n",
        "Use code with caution\n",
        "Why Use Tuples?\n",
        "\n",
        "Data Integrity: Immutability ensures data remains constant.\n",
        "Representing Fixed Data: Useful for things like coordinates, database records.\n",
        "Dictionary Keys: Tuples (unlike lists) can be used as dictionary keys.\n",
        "Example in Colab/Jupyter:\n",
        "```\n",
        "my_tuple = (10, 20, 'Colab')\n",
        "print(my_tuple[0])  # Output: 10\n",
        "print(my_tuple[2])  # Output: Colab\n",
        "```\n",
        "Use code with caution\n",
        "To see the output, run the code.\n",
        "\n",
        "Key Differences from Lists:\n",
        "\n",
        "Mutability: Tuples are immutable; lists are mutable.\n",
        "Syntax: Tuples use parentheses (); lists use square brackets []."
      ],
      "metadata": {
        "id": "Ht1Jn3Cg4rDZ"
      }
    },
    {
      "cell_type": "code",
      "execution_count": 2,
      "metadata": {
        "colab": {
          "base_uri": "https://localhost:8080/"
        },
        "id": "W52RTxOD4DPw",
        "outputId": "4d799323-257a-41e1-a34e-9921ed2e4c49"
      },
      "outputs": [
        {
          "output_type": "execute_result",
          "data": {
            "text/plain": [
              "tuple"
            ]
          },
          "metadata": {},
          "execution_count": 2
        }
      ],
      "source": [
        "num=(1,2,3,4,5,6)\n",
        "type(num)"
      ]
    },
    {
      "cell_type": "code",
      "source": [
        "num[1]=\"ank\""
      ],
      "metadata": {
        "colab": {
          "base_uri": "https://localhost:8080/",
          "height": 141
        },
        "id": "IUR-lS-f46Md",
        "outputId": "e1263d1d-476c-4d7f-cc51-3fec3f53ffb7"
      },
      "execution_count": 3,
      "outputs": [
        {
          "output_type": "error",
          "ename": "TypeError",
          "evalue": "'tuple' object does not support item assignment",
          "traceback": [
            "\u001b[0;31m---------------------------------------------------------------------------\u001b[0m",
            "\u001b[0;31mTypeError\u001b[0m                                 Traceback (most recent call last)",
            "\u001b[0;32m<ipython-input-3-ad9ab7f98ec8>\u001b[0m in \u001b[0;36m<cell line: 0>\u001b[0;34m()\u001b[0m\n\u001b[0;32m----> 1\u001b[0;31m \u001b[0mnum\u001b[0m\u001b[0;34m[\u001b[0m\u001b[0;36m1\u001b[0m\u001b[0;34m]\u001b[0m\u001b[0;34m=\u001b[0m\u001b[0;34m\"ank\"\u001b[0m\u001b[0;34m\u001b[0m\u001b[0;34m\u001b[0m\u001b[0m\n\u001b[0m",
            "\u001b[0;31mTypeError\u001b[0m: 'tuple' object does not support item assignment"
          ]
        }
      ]
    },
    {
      "cell_type": "code",
      "source": [
        "num2=(1,2,3,4,5,6)\n",
        "type(num2)"
      ],
      "metadata": {
        "colab": {
          "base_uri": "https://localhost:8080/"
        },
        "id": "7snv8OOm5IrS",
        "outputId": "2ccdb317-ae3e-4043-a104-d5f6806dc1ec"
      },
      "execution_count": 4,
      "outputs": [
        {
          "output_type": "execute_result",
          "data": {
            "text/plain": [
              "tuple"
            ]
          },
          "metadata": {},
          "execution_count": 4
        }
      ]
    },
    {
      "cell_type": "code",
      "source": [
        "new_tuple=num+num2"
      ],
      "metadata": {
        "id": "SOqDUBhM5MSv"
      },
      "execution_count": 5,
      "outputs": []
    },
    {
      "cell_type": "code",
      "source": [
        "print(new_tuple)"
      ],
      "metadata": {
        "colab": {
          "base_uri": "https://localhost:8080/"
        },
        "id": "thuNX7jm5PTL",
        "outputId": "7071c4fd-3556-4d2b-8a4a-cb0a38f3397a"
      },
      "execution_count": 6,
      "outputs": [
        {
          "output_type": "stream",
          "name": "stdout",
          "text": [
            "(1, 2, 3, 4, 5, 6, 1, 2, 3, 4, 5, 6)\n"
          ]
        }
      ]
    },
    {
      "cell_type": "code",
      "source": [
        "# tuple mthod"
      ],
      "metadata": {
        "id": "SKXYGZ4f5RLd"
      },
      "execution_count": 7,
      "outputs": []
    },
    {
      "cell_type": "code",
      "source": [
        "print(num.count(1))"
      ],
      "metadata": {
        "colab": {
          "base_uri": "https://localhost:8080/"
        },
        "id": "uQEFK5Gs5T56",
        "outputId": "fcaa0ffe-8965-403a-8451-e9346a0ad304"
      },
      "execution_count": 8,
      "outputs": [
        {
          "output_type": "stream",
          "name": "stdout",
          "text": [
            "1\n"
          ]
        }
      ]
    },
    {
      "cell_type": "code",
      "source": [
        "print(new_tuple.count(1))"
      ],
      "metadata": {
        "colab": {
          "base_uri": "https://localhost:8080/"
        },
        "id": "ud9XlXnh5WRO",
        "outputId": "34654612-b732-4b51-b0de-de327670cffb"
      },
      "execution_count": 9,
      "outputs": [
        {
          "output_type": "stream",
          "name": "stdout",
          "text": [
            "2\n"
          ]
        }
      ]
    },
    {
      "cell_type": "code",
      "source": [
        "print(new_tuple.index(1))"
      ],
      "metadata": {
        "colab": {
          "base_uri": "https://localhost:8080/"
        },
        "id": "VHtEuNv45ZC3",
        "outputId": "72cdd84e-c370-4e9b-a196-33bc8f8a5320"
      },
      "execution_count": 10,
      "outputs": [
        {
          "output_type": "stream",
          "name": "stdout",
          "text": [
            "0\n"
          ]
        }
      ]
    },
    {
      "cell_type": "code",
      "source": [
        "# packing and unpacking\n",
        "packed_tuple=1,\"hello\",3.14"
      ],
      "metadata": {
        "id": "vkLvByB15bH4"
      },
      "execution_count": 11,
      "outputs": []
    },
    {
      "cell_type": "code",
      "source": [
        "print(packed_tuple)"
      ],
      "metadata": {
        "colab": {
          "base_uri": "https://localhost:8080/"
        },
        "id": "isNnTN5-5o8R",
        "outputId": "9b2f753a-7682-4fe2-e585-946179dd9839"
      },
      "execution_count": 12,
      "outputs": [
        {
          "output_type": "stream",
          "name": "stdout",
          "text": [
            "(1, 'hello', 3.14)\n"
          ]
        }
      ]
    },
    {
      "cell_type": "code",
      "source": [
        "a,b,c=packed_tuple"
      ],
      "metadata": {
        "id": "iLDmVwAE5qup"
      },
      "execution_count": 13,
      "outputs": []
    },
    {
      "cell_type": "code",
      "source": [
        "print(a)\n",
        "print(b)\n",
        "print(c)"
      ],
      "metadata": {
        "colab": {
          "base_uri": "https://localhost:8080/"
        },
        "id": "57Tm3nEd5t0W",
        "outputId": "575d421f-746d-4123-cf43-3d54284709d0"
      },
      "execution_count": 14,
      "outputs": [
        {
          "output_type": "stream",
          "name": "stdout",
          "text": [
            "1\n",
            "hello\n",
            "3.14\n"
          ]
        }
      ]
    },
    {
      "cell_type": "code",
      "source": [
        "## nested tuple\n",
        "tpl=(1,2,3,4,(5,6,7,8),10)\n",
        "print(tpl)"
      ],
      "metadata": {
        "colab": {
          "base_uri": "https://localhost:8080/"
        },
        "id": "bNRwjp-c5wsD",
        "outputId": "06244416-9bf7-4fdf-ed1c-6dde558b2137"
      },
      "execution_count": 15,
      "outputs": [
        {
          "output_type": "stream",
          "name": "stdout",
          "text": [
            "(1, 2, 3, 4, (5, 6, 7, 8), 10)\n"
          ]
        }
      ]
    },
    {
      "cell_type": "code",
      "source": [
        "print(tpl[4])"
      ],
      "metadata": {
        "colab": {
          "base_uri": "https://localhost:8080/"
        },
        "id": "L6OzGj166DFk",
        "outputId": "bd6e4c31-03ca-451a-e1fa-e8667c7b3545"
      },
      "execution_count": 16,
      "outputs": [
        {
          "output_type": "stream",
          "name": "stdout",
          "text": [
            "(5, 6, 7, 8)\n"
          ]
        }
      ]
    },
    {
      "cell_type": "code",
      "source": [
        "print(tpl[4][1])"
      ],
      "metadata": {
        "colab": {
          "base_uri": "https://localhost:8080/"
        },
        "id": "m-lIoCmS6IBx",
        "outputId": "29716c9a-9695-44f7-f986-3e58c5e8d818"
      },
      "execution_count": 17,
      "outputs": [
        {
          "output_type": "stream",
          "name": "stdout",
          "text": [
            "6\n"
          ]
        }
      ]
    },
    {
      "cell_type": "code",
      "source": [],
      "metadata": {
        "id": "ZRNPpAJx6Ksm"
      },
      "execution_count": null,
      "outputs": []
    }
  ]
}