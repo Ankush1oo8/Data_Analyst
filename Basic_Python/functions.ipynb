{
  "nbformat": 4,
  "nbformat_minor": 0,
  "metadata": {
    "colab": {
      "provenance": [],
      "authorship_tag": "ABX9TyPFgunXCPsI5VLpoKVjSmJm",
      "include_colab_link": true
    },
    "kernelspec": {
      "name": "python3",
      "display_name": "Python 3"
    },
    "language_info": {
      "name": "python"
    }
  },
  "cells": [
    {
      "cell_type": "markdown",
      "metadata": {
        "id": "view-in-github",
        "colab_type": "text"
      },
      "source": [
        "<a href=\"https://colab.research.google.com/github/Ankush1oo8/Data_Analyst/blob/main/Basic_Python/functions.ipynb\" target=\"_parent\"><img src=\"https://colab.research.google.com/assets/colab-badge.svg\" alt=\"Open In Colab\"/></a>"
      ]
    },
    {
      "cell_type": "markdown",
      "source": [
        "What is a function?\n",
        "\n",
        "A function is a block of reusable code that performs a specific task. It can take inputs (arguments) and return outputs. Functions help organize code, make it more readable, and avoid repetition."
      ],
      "metadata": {
        "id": "Od8j60c9HFWH"
      }
    },
    {
      "cell_type": "markdown",
      "source": [
        "- def: Keyword to define a function.\n",
        "function_name: A descriptive name for the function.\n",
        "- argument1, argument2, ...: Input values for the function (optional).\n",
        "- Docstring: A string explaining the function's purpose (optional but recommended).\n",
        "- return: Keyword to specify the output value (optional)."
      ],
      "metadata": {
        "id": "Ycepn6SMHLpY"
      }
    },
    {
      "cell_type": "code",
      "source": [
        "def function_name(argument1, argument2, ...):\n",
        "  \"\"\"Docstring explaining what the function does.\"\"\"\n",
        "  # Code to execute\n",
        "  return output  # Optional return statement"
      ],
      "metadata": {
        "id": "RiMGmBSIHKE6"
      },
      "execution_count": null,
      "outputs": []
    },
    {
      "cell_type": "markdown",
      "source": [
        "Key benefits of using functions:\n",
        "\n",
        "- Reusability: Avoid writing the same code multiple times.\n",
        "- Modularity: Break down complex tasks into smaller, manageable units.\n",
        "- Readability: Make your code easier to understand and maintain.\n",
        "- Organization: Structure your code logically."
      ],
      "metadata": {
        "id": "s1Q9HAeRHVAr"
      }
    },
    {
      "cell_type": "code",
      "source": [
        "def even_or_odd(numm):\n",
        "  \"\"\"this function finds if num is odd or even\"\"\"\n",
        "  if numm%2==0:\n",
        "    print(\"number is even\")\n",
        "  else:\n",
        "    print(\"number is odd\")"
      ],
      "metadata": {
        "id": "1JWi1YgvHaZ5"
      },
      "execution_count": 2,
      "outputs": []
    },
    {
      "cell_type": "code",
      "source": [
        "even_or_odd(5)"
      ],
      "metadata": {
        "colab": {
          "base_uri": "https://localhost:8080/"
        },
        "id": "xVLluKzJHdpV",
        "outputId": "eb820d91-81b8-497c-c695-016f64041aec"
      },
      "execution_count": 3,
      "outputs": [
        {
          "output_type": "stream",
          "name": "stdout",
          "text": [
            "number is odd\n"
          ]
        }
      ]
    },
    {
      "cell_type": "code",
      "source": [
        "#function with multiple parameter\n",
        "\n",
        "def add(a,b):\n",
        "  return a+b\n",
        "\n",
        "print(add(1,2))"
      ],
      "metadata": {
        "colab": {
          "base_uri": "https://localhost:8080/"
        },
        "id": "8SghmxBpHvPZ",
        "outputId": "6252c1a0-c44b-4115-ec51-d5fbf34b62ca"
      },
      "execution_count": 4,
      "outputs": [
        {
          "output_type": "stream",
          "name": "stdout",
          "text": [
            "3\n"
          ]
        }
      ]
    },
    {
      "cell_type": "code",
      "source": [
        "#deafult parameter\n",
        "def greet(name=\"User\"):\n",
        "  print(f\"hello {name} welcome to code\")\n",
        "\n",
        "greet()\n",
        "greet(\"Ankush\")"
      ],
      "metadata": {
        "colab": {
          "base_uri": "https://localhost:8080/"
        },
        "id": "RlP_YZL-H5_l",
        "outputId": "2e4b47c0-0fc9-4ed0-c69f-2def1bc9b450"
      },
      "execution_count": 7,
      "outputs": [
        {
          "output_type": "stream",
          "name": "stdout",
          "text": [
            "hello User welcome to code\n",
            "hello Ankush welcome to code\n"
          ]
        }
      ]
    },
    {
      "cell_type": "code",
      "source": [
        "#variable length arguments\n",
        "#positional arg\n",
        "\n",
        "def print_number(*args):\n",
        "  for n in args:\n",
        "    print(n)\n",
        "\n",
        "print_number(1,2,3,4,5,5,6,7,8,8)"
      ],
      "metadata": {
        "colab": {
          "base_uri": "https://localhost:8080/"
        },
        "id": "DtHPFSRhIZjk",
        "outputId": "d916ff48-9b3d-4dcd-c472-ef52fd96a704"
      },
      "execution_count": 8,
      "outputs": [
        {
          "output_type": "stream",
          "name": "stdout",
          "text": [
            "1\n",
            "2\n",
            "3\n",
            "4\n",
            "5\n",
            "5\n",
            "6\n",
            "7\n",
            "8\n",
            "8\n"
          ]
        }
      ]
    },
    {
      "cell_type": "code",
      "source": [
        "#keywords arguments\n",
        "def print_detail(**kwargs):\n",
        "  for key,val in kwargs.items():\n",
        "    print(f\"{key}: {val}\")\n",
        "\n",
        "print_detail(name=\"Ankush\",age=\"32\")\n"
      ],
      "metadata": {
        "colab": {
          "base_uri": "https://localhost:8080/"
        },
        "id": "OtSr7hIzI1b1",
        "outputId": "3f23f24e-343e-4982-dc1e-94c987b64b5c"
      },
      "execution_count": 12,
      "outputs": [
        {
          "output_type": "stream",
          "name": "stdout",
          "text": [
            "name: Ankush\n",
            "age: 32\n"
          ]
        }
      ]
    },
    {
      "cell_type": "code",
      "source": [
        "def both_args(*args,**kwargs):\n",
        "  for n in args:\n",
        "    print(n)\n",
        "  for key,val in kwargs.items():\n",
        "    print(f\"{key}: {val}\")\n",
        "\n",
        "both_args(1,2,3,4,5,name=\"Ankush\",age=\"32\")"
      ],
      "metadata": {
        "colab": {
          "base_uri": "https://localhost:8080/"
        },
        "id": "d-qViBR7JTL8",
        "outputId": "51c80587-bd08-402b-c4f6-14f61e6e4c5c"
      },
      "execution_count": 13,
      "outputs": [
        {
          "output_type": "stream",
          "name": "stdout",
          "text": [
            "1\n",
            "2\n",
            "3\n",
            "4\n",
            "5\n",
            "name: Ankush\n",
            "age: 32\n"
          ]
        }
      ]
    },
    {
      "cell_type": "code",
      "source": [],
      "metadata": {
        "id": "49vdNiCcKRIq"
      },
      "execution_count": null,
      "outputs": []
    }
  ]
}