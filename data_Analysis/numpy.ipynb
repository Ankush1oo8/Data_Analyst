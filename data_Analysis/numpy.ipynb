{
  "nbformat": 4,
  "nbformat_minor": 0,
  "metadata": {
    "colab": {
      "provenance": [],
      "authorship_tag": "ABX9TyOV86Y/ebP10dUHFKtxN+Pb",
      "include_colab_link": true
    },
    "kernelspec": {
      "name": "python3",
      "display_name": "Python 3"
    },
    "language_info": {
      "name": "python"
    }
  },
  "cells": [
    {
      "cell_type": "markdown",
      "metadata": {
        "id": "view-in-github",
        "colab_type": "text"
      },
      "source": [
        "<a href=\"https://colab.research.google.com/github/Ankush1oo8/Data_Analyst/blob/main/data_Analysis/numpy.ipynb\" target=\"_parent\"><img src=\"https://colab.research.google.com/assets/colab-badge.svg\" alt=\"Open In Colab\"/></a>"
      ]
    },
    {
      "cell_type": "markdown",
      "source": [
        "What is NumPy?\n",
        "\n",
        "NumPy (Numerical Python) is a fundamental library for scientific computing in Python. It provides:\n",
        "\n",
        "Powerful N-dimensional arrays: These are efficient data structures for storing and manipulating large datasets, especially numerical data.\n",
        "Broadcasting: This mechanism allows you to perform operations on arrays of different shapes in a concise and efficient manner.\n",
        "\n",
        "Mathematical functions: NumPy has a wide range of built-in functions for linear algebra, Fourier transforms, random number generation, and more, optimized for performance.\n",
        "Tools for integrating C/C++ and Fortran code: This allows for even greater performance optimization.\n",
        "\n",
        "How to Use NumPy in Google Colab"
      ],
      "metadata": {
        "id": "l8-dY1a1kZVB"
      }
    },
    {
      "cell_type": "code",
      "execution_count": null,
      "metadata": {
        "id": "VJgCtk4okIAR"
      },
      "outputs": [],
      "source": [
        "import numpy as np"
      ]
    },
    {
      "cell_type": "markdown",
      "source": [
        "(The np alias is a common convention)"
      ],
      "metadata": {
        "id": "RLJXmh9fklIn"
      }
    },
    {
      "cell_type": "code",
      "source": [
        "#create array using numpy\n",
        "#1D array\n",
        "arr1=np.array([1,2,3])\n",
        "print(arr1)\n",
        "arr1.shape"
      ],
      "metadata": {
        "colab": {
          "base_uri": "https://localhost:8080/"
        },
        "id": "G43CBYwKkpcc",
        "outputId": "eedeb12c-7bb8-4628-9765-5097c32c300b"
      },
      "execution_count": null,
      "outputs": [
        {
          "output_type": "stream",
          "name": "stdout",
          "text": [
            "[1 2 3]\n"
          ]
        },
        {
          "output_type": "execute_result",
          "data": {
            "text/plain": [
              "(3,)"
            ]
          },
          "metadata": {},
          "execution_count": 4
        }
      ]
    },
    {
      "cell_type": "code",
      "source": [
        "arr2=np.array([[1,2,3],[5,6,7]])\n",
        "print(arr2)\n",
        "arr2.shape"
      ],
      "metadata": {
        "colab": {
          "base_uri": "https://localhost:8080/"
        },
        "id": "lBDZnKeKk5d5",
        "outputId": "3bac447a-1c4c-4532-b483-4f8880981b83"
      },
      "execution_count": null,
      "outputs": [
        {
          "output_type": "stream",
          "name": "stdout",
          "text": [
            "[[1 2 3]\n",
            " [5 6 7]]\n"
          ]
        },
        {
          "output_type": "execute_result",
          "data": {
            "text/plain": [
              "(2, 3)"
            ]
          },
          "metadata": {},
          "execution_count": 5
        }
      ]
    },
    {
      "cell_type": "code",
      "source": [
        "np.arange(0,10,2).reshape(1,5)"
      ],
      "metadata": {
        "colab": {
          "base_uri": "https://localhost:8080/"
        },
        "id": "nE1sNm6UlD4l",
        "outputId": "f5646bd4-f7ab-4076-8c05-55cdd77c4ec3"
      },
      "execution_count": null,
      "outputs": [
        {
          "output_type": "execute_result",
          "data": {
            "text/plain": [
              "array([[0, 2, 4, 6, 8]])"
            ]
          },
          "metadata": {},
          "execution_count": 7
        }
      ]
    },
    {
      "cell_type": "code",
      "source": [
        "np.arange(0,10,1).reshape(2,5)"
      ],
      "metadata": {
        "colab": {
          "base_uri": "https://localhost:8080/"
        },
        "id": "kwYyttdVljlg",
        "outputId": "8c4aa3d7-46e7-430c-ee58-18922729c46d"
      },
      "execution_count": null,
      "outputs": [
        {
          "output_type": "execute_result",
          "data": {
            "text/plain": [
              "array([[0, 1, 2, 3, 4],\n",
              "       [5, 6, 7, 8, 9]])"
            ]
          },
          "metadata": {},
          "execution_count": 10
        }
      ]
    },
    {
      "cell_type": "code",
      "source": [
        "arr2.size"
      ],
      "metadata": {
        "colab": {
          "base_uri": "https://localhost:8080/"
        },
        "id": "jCeAQab1lpoD",
        "outputId": "1d45fc2f-0f5b-4d90-957d-36e83269d9de"
      },
      "execution_count": null,
      "outputs": [
        {
          "output_type": "execute_result",
          "data": {
            "text/plain": [
              "6"
            ]
          },
          "metadata": {},
          "execution_count": 12
        }
      ]
    },
    {
      "cell_type": "code",
      "source": [
        "arr2.itemsize"
      ],
      "metadata": {
        "colab": {
          "base_uri": "https://localhost:8080/"
        },
        "id": "4LKvF4qUlxRV",
        "outputId": "a38e79d0-293b-4a4a-c11d-c9a6f60b20e6"
      },
      "execution_count": null,
      "outputs": [
        {
          "output_type": "execute_result",
          "data": {
            "text/plain": [
              "8"
            ]
          },
          "metadata": {},
          "execution_count": 13
        }
      ]
    },
    {
      "cell_type": "code",
      "source": [
        "# numpy vectorize array operation\n",
        "arr1=np.array([1,2,3])\n",
        "arr2=np.array([4,5,6])\n",
        "\n",
        "print(\"Addition\",arr1+arr2)\n",
        "print(\"Subtraction\",arr1-arr2)\n",
        "print(\"Multiplication\",arr1*arr2)\n",
        "print(\"Division\",arr1/arr2)"
      ],
      "metadata": {
        "colab": {
          "base_uri": "https://localhost:8080/"
        },
        "id": "bsaytO4Ol1ka",
        "outputId": "54277ac6-15a0-4763-c267-cec8a9a88968"
      },
      "execution_count": null,
      "outputs": [
        {
          "output_type": "stream",
          "name": "stdout",
          "text": [
            "Addition [5 7 9]\n",
            "Subtraction [-3 -3 -3]\n",
            "Multiplication [ 4 10 18]\n",
            "Division [0.25 0.4  0.5 ]\n"
          ]
        }
      ]
    },
    {
      "cell_type": "code",
      "source": [
        "## universal functions\n",
        "arr=np.array([1,2,3])\n",
        "np.sqrt(arr)\n",
        "\n",
        "## exponential\n",
        "print(np.exp(arr))\n",
        "\n",
        "##sine\n",
        "print(np.sin(arr))\n",
        "\n",
        "##natural log\n",
        "print(np.log(arr))"
      ],
      "metadata": {
        "colab": {
          "base_uri": "https://localhost:8080/"
        },
        "id": "6L2BhtCImBus",
        "outputId": "d5c5866d-3af8-4b3d-93f9-533ac50d1fcb"
      },
      "execution_count": null,
      "outputs": [
        {
          "output_type": "stream",
          "name": "stdout",
          "text": [
            "[ 2.71828183  7.3890561  20.08553692]\n",
            "[0.84147098 0.90929743 0.14112001]\n",
            "[0.         0.69314718 1.09861229]\n"
          ]
        }
      ]
    },
    {
      "cell_type": "code",
      "source": [
        "## array slicing and indexing\n",
        "\n",
        "arr=np.array([[1,2,3],[4,5,6],[7,8,9]])\n",
        "print(arr)"
      ],
      "metadata": {
        "colab": {
          "base_uri": "https://localhost:8080/"
        },
        "id": "tYFnMs_8mfLJ",
        "outputId": "c545c18b-2560-45ad-f448-306a5dcc08cb"
      },
      "execution_count": null,
      "outputs": [
        {
          "output_type": "stream",
          "name": "stdout",
          "text": [
            "[[1 2 3]\n",
            " [4 5 6]\n",
            " [7 8 9]]\n"
          ]
        }
      ]
    },
    {
      "cell_type": "code",
      "source": [
        "print(arr[0][0])"
      ],
      "metadata": {
        "colab": {
          "base_uri": "https://localhost:8080/"
        },
        "id": "ad0fxnCam3ft",
        "outputId": "e523d81d-65ea-4374-dc7e-43d5c32f2e18"
      },
      "execution_count": null,
      "outputs": [
        {
          "output_type": "stream",
          "name": "stdout",
          "text": [
            "1\n"
          ]
        }
      ]
    },
    {
      "cell_type": "code",
      "source": [
        "arr[1:]"
      ],
      "metadata": {
        "colab": {
          "base_uri": "https://localhost:8080/"
        },
        "id": "64ffnYPam8vp",
        "outputId": "3155ac38-a9bc-470c-835c-3f1281f404e2"
      },
      "execution_count": null,
      "outputs": [
        {
          "output_type": "execute_result",
          "data": {
            "text/plain": [
              "array([[4, 5, 6],\n",
              "       [7, 8, 9]])"
            ]
          },
          "metadata": {},
          "execution_count": 21
        }
      ]
    },
    {
      "cell_type": "code",
      "source": [
        "arr[1:\n",
        "    ,2:]"
      ],
      "metadata": {
        "colab": {
          "base_uri": "https://localhost:8080/"
        },
        "id": "bZ5Dn7BNnBsV",
        "outputId": "4845b6c1-2297-4af4-e83e-ae782faf7926"
      },
      "execution_count": null,
      "outputs": [
        {
          "output_type": "execute_result",
          "data": {
            "text/plain": [
              "array([[6],\n",
              "       [9]])"
            ]
          },
          "metadata": {},
          "execution_count": 23
        }
      ]
    },
    {
      "cell_type": "code",
      "source": [
        "arr[:2,1:]"
      ],
      "metadata": {
        "colab": {
          "base_uri": "https://localhost:8080/"
        },
        "id": "gdMJ49zdnHPi",
        "outputId": "28bb850a-6cc6-4bb8-e8c4-570e90852331"
      },
      "execution_count": null,
      "outputs": [
        {
          "output_type": "execute_result",
          "data": {
            "text/plain": [
              "array([[2, 3],\n",
              "       [5, 6]])"
            ]
          },
          "metadata": {},
          "execution_count": 28
        }
      ]
    },
    {
      "cell_type": "code",
      "source": [
        "## modifying element\n",
        "\n",
        "arr[0][0]=100"
      ],
      "metadata": {
        "id": "8xbq7Nk5nYTr"
      },
      "execution_count": null,
      "outputs": []
    },
    {
      "cell_type": "code",
      "source": [
        "print(arr)"
      ],
      "metadata": {
        "colab": {
          "base_uri": "https://localhost:8080/"
        },
        "id": "LA8FT1iqnwy0",
        "outputId": "4ce1ac65-3bb5-45bf-b95c-de824bf124ae"
      },
      "execution_count": null,
      "outputs": [
        {
          "output_type": "stream",
          "name": "stdout",
          "text": [
            "[[100   2   3]\n",
            " [  4   5   6]\n",
            " [  7   8   9]]\n"
          ]
        }
      ]
    },
    {
      "cell_type": "code",
      "source": [
        "### statistical concept - normalization\n",
        "## to have mean of 0 and std deviation\n",
        "\n",
        "data=np.array([10,1,2,3,4,5,6,8,8,9,7,5,4,3,2])\n",
        "\n",
        "#mean\n",
        "mean=np.mean(data)\n",
        "print(\"Mean: \",mean)\n",
        "\n",
        "#median\n",
        "median=np.median(data)\n",
        "print(\"Median: \",median)\n",
        "\n",
        "#standard deviation\n",
        "std_dev=np.std(data)\n",
        "print(\"Standard Deviation: \",std_dev)\n",
        "\n",
        "#variance\n",
        "variance=np.var(data)\n",
        "print(\"Variance: \",variance)"
      ],
      "metadata": {
        "colab": {
          "base_uri": "https://localhost:8080/"
        },
        "id": "u6VEDI9Cnx7d",
        "outputId": "a1cd27c1-29cb-4b08-e854-c039b78a9fe7"
      },
      "execution_count": null,
      "outputs": [
        {
          "output_type": "stream",
          "name": "stdout",
          "text": [
            "Mean:  5.133333333333334\n",
            "Median:  5.0\n",
            "Standard Deviation:  2.679966832298904\n",
            "Variance:  7.182222222222222\n"
          ]
        }
      ]
    },
    {
      "cell_type": "code",
      "source": [
        "# logical operation\n",
        "data[(data>5) & (data<8)]\n"
      ],
      "metadata": {
        "colab": {
          "base_uri": "https://localhost:8080/"
        },
        "id": "WXHU5fG_ohXV",
        "outputId": "832cc467-e033-4038-b34a-0f4897451ae9"
      },
      "execution_count": null,
      "outputs": [
        {
          "output_type": "execute_result",
          "data": {
            "text/plain": [
              "array([6, 7])"
            ]
          },
          "metadata": {},
          "execution_count": 37
        }
      ]
    }
  ]
}